{
 "cells": [
  {
   "cell_type": "code",
   "execution_count": 1,
   "metadata": {},
   "outputs": [],
   "source": [
    "# project: p3\n",
    "# submitter: backliwal@wisc.edu\n",
    "# partner: none"
   ]
  },
  {
   "cell_type": "code",
   "execution_count": 2,
   "metadata": {},
   "outputs": [],
   "source": [
    "from project import*\n",
    "import project\n",
    "init(\"madison.csv\")"
   ]
  },
  {
   "cell_type": "code",
   "execution_count": 3,
   "metadata": {},
   "outputs": [],
   "source": [
    "#Q1: What is the agency ID of the stores agency?\n",
    "get_id(\"stores\")"
   ]
  },
  {
   "cell_type": "code",
   "execution_count": 4,
   "metadata": {},
   "outputs": [],
   "source": [
    "#Q2: How much did the agency with ID 3 spend in 2017?\n",
    "get_spending(3, 2017)"
   ]
  },
  {
   "cell_type": "code",
   "execution_count": 5,
   "metadata": {},
   "outputs": [],
   "source": [
    "#Q3: How much did \"restaurants\" spend in 2019?\n",
    "get_spending(get_id(\"restaurants\"), 2019)"
   ]
  },
  {
   "cell_type": "code",
   "execution_count": 6,
   "metadata": {},
   "outputs": [],
   "source": [
    "#Function 1: This function will compute the maximum spending of any one agency in a given year\n",
    "def year_max(year):\n",
    "    # grab the spending by each agency in the given year\n",
    "    governments_spending = project.get_spending(project.get_id(\"governments\"), year)\n",
    "    gyms_spending = project.get_spending(project.get_id(\"gyms\"), year)\n",
    "    restaurants_spending = project.get_spending(project.get_id(\"restaurants\"), year)\n",
    "    schools_spending = project.get_spending(project.get_id(\"schools\"), year)\n",
    "    stores_spending = project.get_spending(project.get_id(\"stores\"), year)\n",
    "\n",
    "    # use builtin max function to get the largest of the five values\n",
    "    return max(governments_spending, gyms_spending, restaurants_spending, schools_spending, stores_spending)"
   ]
  },
  {
   "cell_type": "code",
   "execution_count": 7,
   "metadata": {},
   "outputs": [],
   "source": [
    "#Q4: What was the most spent by a single agency in 2017?\n",
    "year_max(2017)"
   ]
  },
  {
   "cell_type": "code",
   "execution_count": 8,
   "metadata": {},
   "outputs": [
    {
     "data": {
      "text/plain": [
       "77.87553504"
      ]
     },
     "execution_count": 8,
     "metadata": {},
     "output_type": "execute_result"
    }
   ],
   "source": [
    "#Q5: What was the most spent by a single agency in 2020?\n",
    "year_max(2020)"
   ]
  },
  {
   "cell_type": "code",
   "execution_count": 9,
   "metadata": {},
   "outputs": [],
   "source": [
    "#Function 2: This function will compute the minimum the given agency ever spent over the course of a year.\n",
    "def agency_min(agency):\n",
    "    agency_id = project.get_id(agency)\n",
    "    # grab spending per year\n",
    "    y17 = project.get_spending(agency_id, 2017)\n",
    "    y18 = project.get_spending(agency_id, 2018)\n",
    "    y19 = project.get_spending(agency_id, 2019)\n",
    "    y20 = project.get_spending(agency_id, 2020)\n",
    "    \n",
    "    # use min function to return min\n",
    "    return min(y17, y18, y19, y20)"
   ]
  },
  {
   "cell_type": "code",
   "execution_count": 10,
   "metadata": {},
   "outputs": [
    {
     "data": {
      "text/plain": [
       "49.73757877"
      ]
     },
     "execution_count": 10,
     "metadata": {},
     "output_type": "execute_result"
    }
   ],
   "source": [
    "#Q6: What was the least that gyms ever spent in a year?\n",
    "agency_min(\"gyms\")"
   ]
  },
  {
   "cell_type": "code",
   "execution_count": 11,
   "metadata": {},
   "outputs": [
    {
     "data": {
      "text/plain": [
       "19.159243279999995"
      ]
     },
     "execution_count": 11,
     "metadata": {},
     "output_type": "execute_result"
    }
   ],
   "source": [
    "#Q7: What was the least that stores ever spent in a year?\n",
    "agency_min(\"stores\")"
   ]
  },
  {
   "cell_type": "code",
   "execution_count": 12,
   "metadata": {},
   "outputs": [],
   "source": [
    "#Function 3: This function will compute the average (over the four datapoints) that the given agency spends per year.\n",
    "def agency_avg(agency):\n",
    "    agency_id = project.get_id(agency)\n",
    "    # grab spending per year\n",
    "    y17 = project.get_spending(agency_id, 2017)\n",
    "    y18 = project.get_spending(agency_id, 2018)\n",
    "    y19 = project.get_spending(agency_id, 2019)\n",
    "    y20 = project.get_spending(agency_id, 2020)\n",
    "    \n",
    "    # return avg\n",
    "    return ((y17 + y18 + y19 + y20) / 4)"
   ]
  },
  {
   "cell_type": "code",
   "execution_count": 13,
   "metadata": {},
   "outputs": [
    {
     "data": {
      "text/plain": [
       "27.013047475"
      ]
     },
     "execution_count": 13,
     "metadata": {},
     "output_type": "execute_result"
    }
   ],
   "source": [
    "#Q8: How much is spent per year on governments, on average?\n",
    "agency_avg(\"governments\")"
   ]
  },
  {
   "cell_type": "code",
   "execution_count": 14,
   "metadata": {},
   "outputs": [
    {
     "data": {
      "text/plain": [
       "18.5180922925"
      ]
     },
     "execution_count": 14,
     "metadata": {},
     "output_type": "execute_result"
    }
   ],
   "source": [
    "#Q9: How much is spent per year on restaurants, on average?\n",
    "agency_avg(\"restaurants\")"
   ]
  },
  {
   "cell_type": "code",
   "execution_count": 15,
   "metadata": {},
   "outputs": [
    {
     "data": {
      "text/plain": [
       "1.195455545247126"
      ]
     },
     "execution_count": 15,
     "metadata": {},
     "output_type": "execute_result"
    }
   ],
   "source": [
    "#Q10: How much did the gyms spend above their average in 2019?\n",
    "((get_spending(get_id(\"gyms\"), 2019) - agency_avg(\"gyms\")) / agency_avg(\"gyms\")) * 100"
   ]
  },
  {
   "cell_type": "code",
   "execution_count": 16,
   "metadata": {},
   "outputs": [],
   "source": [
    "#Function 4: This function returns the agency that has the maximum overall spending over the period \n",
    "#from start_year to end_year\n",
    "def max_spending_agency(start_year=2018, end_year=2020):\n",
    "    max_agency = (None, None)\n",
    "    for agency in [\"governments\", \"gyms\", \"restaurants\", \"schools\", \"stores\"]:\n",
    "        _sum = sum([project.get_spending(project.get_id(agency), year=year) for year in range(start_year, end_year+1)])\n",
    "        max_agency = (agency, _sum) if (max_agency == (None, None) or max_agency[1] < _sum) else max_agency\n",
    "    \n",
    "    return max_agency[0]"
   ]
  },
  {
   "cell_type": "code",
   "execution_count": 17,
   "metadata": {},
   "outputs": [
    {
     "data": {
      "text/plain": [
       "'schools'"
      ]
     },
     "execution_count": 17,
     "metadata": {},
     "output_type": "execute_result"
    }
   ],
   "source": [
    "#Q11: Which agency has the maximum overall spending from 2018 to 2020?\n",
    "max_spending_agency()"
   ]
  },
  {
   "cell_type": "code",
   "execution_count": 18,
   "metadata": {},
   "outputs": [
    {
     "data": {
      "text/plain": [
       "'stores'"
      ]
     },
     "execution_count": 18,
     "metadata": {},
     "output_type": "execute_result"
    }
   ],
   "source": [
    "#Q12: Which agency has the maximum overall spending from 2017 to 2019?\n",
    "max_spending_agency(2017, 2019)"
   ]
  },
  {
   "cell_type": "code",
   "execution_count": 19,
   "metadata": {},
   "outputs": [],
   "source": [
    "#Function 5: This function returns the average increase in spending (could be negative if there's a decrease) \n",
    "#over the period from start_year to end_year for the specified agency.\n",
    "def change_per_year(agency, start_year=2017, end_year=2020):\n",
    "    agency_id = project.get_id(agency)\n",
    "    # compute difference in spending from start to end year\n",
    "    difference = project.get_spending(agency_id, end_year) - project.get_spending(agency_id, start_year)\n",
    "    # divide by number of elapsed years and return\n",
    "    return difference / (end_year - start_year)"
   ]
  },
  {
   "cell_type": "code",
   "execution_count": 20,
   "metadata": {},
   "outputs": [
    {
     "data": {
      "text/plain": [
       "-53.53690368"
      ]
     },
     "execution_count": 20,
     "metadata": {},
     "output_type": "execute_result"
    }
   ],
   "source": [
    "#Q13: how much has spending increased per year (on average) for stores from 2017 to 2020?\n",
    "change_per_year(\"stores\")"
   ]
  },
  {
   "cell_type": "code",
   "execution_count": 21,
   "metadata": {},
   "outputs": [
    {
     "data": {
      "text/plain": [
       "0.3007333600000024"
      ]
     },
     "execution_count": 21,
     "metadata": {},
     "output_type": "execute_result"
    }
   ],
   "source": [
    "#Q14: how much has spending increased per year (on average) for stores from 2018 to 2020?\n",
    "change_per_year(\"stores\", 2018)"
   ]
  },
  {
   "cell_type": "code",
   "execution_count": 22,
   "metadata": {},
   "outputs": [],
   "source": [
    "#Function 6: This function should compute the average change per year from the data from year1 to year2 for agency\n",
    "def extrapolate(agency, year1, year2, year3):\n",
    "    per_year = change_per_year(agency, year1, year2)\n",
    "    year_difference = year3 - year2\n",
    "    year2_spending = project.get_spending(project.get_id(agency), year2)\n",
    "    return year2_spending + (year_difference * per_year)"
   ]
  },
  {
   "cell_type": "code",
   "execution_count": 23,
   "metadata": {},
   "outputs": [
    {
     "data": {
      "text/plain": [
       "23.510019659999983"
      ]
     },
     "execution_count": 23,
     "metadata": {},
     "output_type": "execute_result"
    }
   ],
   "source": [
    "#Q15: how much will governments spend in 2021? Extrapolate to 2021 from the data between 2018 and 2019.\n",
    "extrapolate(\"governments\", 2018, 2019, 2021)"
   ]
  },
  {
   "cell_type": "code",
   "execution_count": 24,
   "metadata": {},
   "outputs": [
    {
     "data": {
      "text/plain": [
       "88.6268421999999"
      ]
     },
     "execution_count": 24,
     "metadata": {},
     "output_type": "execute_result"
    }
   ],
   "source": [
    "#Q16: how much will restaurants spend in 2100? Extrapolate from the data between 2018 and 2020.\n",
    "extrapolate(\"restaurants\", 2018, 2020, 2100)"
   ]
  },
  {
   "cell_type": "code",
   "execution_count": 25,
   "metadata": {},
   "outputs": [
    {
     "data": {
      "text/plain": [
       "993.6683869066669"
      ]
     },
     "execution_count": 25,
     "metadata": {},
     "output_type": "execute_result"
    }
   ],
   "source": [
    "#Q17: how much will schools spend in 2300? Extrapolate from the data between 2017 and 2020.\n",
    "extrapolate(\"schools\", 2017, 2020, 2300)"
   ]
  },
  {
   "cell_type": "code",
   "execution_count": 26,
   "metadata": {},
   "outputs": [],
   "source": [
    "#Function 7: Extrapolation error\n",
    "def extrapolate_error(agency, year1, year2, year3):\n",
    "    extrapolation = extrapolate(agency, year1, year2, year3)\n",
    "    return extrapolation - (project.get_spending(project.get_id(agency), year3))"
   ]
  },
  {
   "cell_type": "code",
   "execution_count": 27,
   "metadata": {},
   "outputs": [
    {
     "data": {
      "text/plain": [
       "-0.8952411000000211"
      ]
     },
     "execution_count": 27,
     "metadata": {},
     "output_type": "execute_result"
    }
   ],
   "source": [
    "#Q18: what is the error if we extrapolate to 2020 from the 2018-to-2019 data for gyms?\n",
    "extrapolate_error(\"gyms\", 2018, 2019, 2020)"
   ]
  },
  {
   "cell_type": "code",
   "execution_count": 28,
   "metadata": {},
   "outputs": [
    {
     "data": {
      "text/plain": [
       "-1.7977023315859557"
      ]
     },
     "execution_count": 28,
     "metadata": {},
     "output_type": "execute_result"
    }
   ],
   "source": [
    "#Q19: what is the percent error if we extrapolate to 2020 from the 2017-to-2019 data for governments?\n",
    "extrapolate_error(\"governments\", 2017, 2019, 2020)*100/project.get_spending(project.get_id(\"governments\"), 2020)"
   ]
  },
  {
   "cell_type": "code",
   "execution_count": 29,
   "metadata": {},
   "outputs": [
    {
     "data": {
      "text/plain": [
       "69.69770863072543"
      ]
     },
     "execution_count": 29,
     "metadata": {},
     "output_type": "execute_result"
    }
   ],
   "source": [
    "#Q20: what is the standard deviation for stores spending over the 4 years?\n",
    "import math\n",
    "avg = agency_avg(\"stores\")\n",
    "agency_id = project.get_id(\"stores\")\n",
    "# Calculate the deviations of each data point from the mean, and square the result of each\n",
    "y17 = (project.get_spending(agency_id, 2017) - avg) ** 2\n",
    "y18 = (project.get_spending(agency_id, 2018) - avg) ** 2\n",
    "y19 = (project.get_spending(agency_id, 2019) - avg) ** 2\n",
    "y20 = (project.get_spending(agency_id, 2020) - avg) ** 2\n",
    "# The variance is the mean of these values\n",
    "variance = (y17 + y18 + y19 + y20) / 4\n",
    "# The population standard deviation is equal to the square root of the variance\n",
    "math.sqrt(variance)"
   ]
  },
  {
   "cell_type": "code",
   "execution_count": null,
   "metadata": {},
   "outputs": [],
   "source": []
  }
 ],
 "metadata": {
  "kernelspec": {
   "display_name": "Python 3",
   "language": "python",
   "name": "python3"
  },
  "language_info": {
   "codemirror_mode": {
    "name": "ipython",
    "version": 3
   },
   "file_extension": ".py",
   "mimetype": "text/x-python",
   "name": "python",
   "nbconvert_exporter": "python",
   "pygments_lexer": "ipython3",
   "version": "3.8.5"
  }
 },
 "nbformat": 4,
 "nbformat_minor": 4
}
