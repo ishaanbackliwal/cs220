{
 "cells": [
  {
   "cell_type": "code",
   "execution_count": 1,
   "metadata": {},
   "outputs": [],
   "source": [
    "# project: p5\n",
    "# submitter: backliwal@wisc.edu\n",
    "# partner: none"
   ]
  },
  {
   "cell_type": "code",
   "execution_count": 2,
   "metadata": {},
   "outputs": [],
   "source": [
    "import math\n",
    "import project"
   ]
  },
  {
   "cell_type": "code",
   "execution_count": 3,
   "metadata": {},
   "outputs": [
    {
     "data": {
      "text/plain": [
       "133"
      ]
     },
     "execution_count": 3,
     "metadata": {},
     "output_type": "execute_result"
    }
   ],
   "source": [
    "#Q1: How many records are in the dataset?\n",
    "project.count()"
   ]
  },
  {
   "cell_type": "code",
   "execution_count": 4,
   "metadata": {},
   "outputs": [
    {
     "data": {
      "text/plain": [
       "'Lenny'"
      ]
     },
     "execution_count": 4,
     "metadata": {},
     "output_type": "execute_result"
    }
   ],
   "source": [
    "#Q2: What is the name of the hurricane at the second to last index?\n",
    "project.get_name(131)"
   ]
  },
  {
   "cell_type": "code",
   "execution_count": 5,
   "metadata": {},
   "outputs": [
    {
     "data": {
      "text/plain": [
       "756"
      ]
     },
     "execution_count": 5,
     "metadata": {},
     "output_type": "execute_result"
    }
   ],
   "source": [
    "#Q3: How many deaths were caused by the hurricane at index 24?\n",
    "project.get_deaths(24)"
   ]
  },
  {
   "cell_type": "code",
   "execution_count": 6,
   "metadata": {},
   "outputs": [
    {
     "data": {
      "text/plain": [
       "3"
      ]
     },
     "execution_count": 6,
     "metadata": {},
     "output_type": "execute_result"
    }
   ],
   "source": [
    "#Q4: How many hurricanes named Florence are in the dataset?\n",
    "compare = \"Florence\"\n",
    "count = 0\n",
    "for i in range(project.count()):\n",
    "    name = project.get_name(i).lower()\n",
    "    if compare.lower() == name:\n",
    "        count += 1\n",
    "count"
   ]
  },
  {
   "cell_type": "code",
   "execution_count": 7,
   "metadata": {},
   "outputs": [
    {
     "data": {
      "text/plain": [
       "68"
      ]
     },
     "execution_count": 7,
     "metadata": {},
     "output_type": "execute_result"
    }
   ],
   "source": [
    "#Q5: What is the number of unique deaths in the dataset?\n",
    "number_of_uniq_deaths = [] \n",
    "for i in range(project.count()):\n",
    "# add this number to record if there is no duplicate\n",
    "    if not project.get_deaths(i) in number_of_uniq_deaths: \n",
    "        number_of_uniq_deaths.append(project.get_deaths(i)) # TODO: get the number_of_death of that hurricane\n",
    "len(number_of_uniq_deaths)"
   ]
  },
  {
   "cell_type": "code",
   "execution_count": 8,
   "metadata": {},
   "outputs": [
    {
     "data": {
      "text/plain": [
       "'Allen'"
      ]
     },
     "execution_count": 8,
     "metadata": {},
     "output_type": "execute_result"
    }
   ],
   "source": [
    "#Q6: What is the name of the fastest hurricane?\n",
    "fastest = 0\n",
    "name = \"\"\n",
    "for i in range(project.count()):\n",
    "    if project.get_mph(i) > fastest:\n",
    "        fastest = project.get_mph(i)\n",
    "        name = project.get_name(i)\n",
    "name"
   ]
  },
  {
   "cell_type": "code",
   "execution_count": 9,
   "metadata": {},
   "outputs": [
    {
     "data": {
      "text/plain": [
       "124.47368421052632"
      ]
     },
     "execution_count": 9,
     "metadata": {},
     "output_type": "execute_result"
    }
   ],
   "source": [
    "#Q7: What is the average MPH achieved by all hurricanes?\n",
    "sum = 0\n",
    "for i in range(project.count()):\n",
    "    sum += project.get_mph(i)\n",
    "sum / project.count()"
   ]
  },
  {
   "cell_type": "code",
   "execution_count": 10,
   "metadata": {},
   "outputs": [],
   "source": [
    "# check the last character of the string\n",
    "# and then convert it to appropriate integer by slicing and type casting\n",
    "def format_damage(damage):\n",
    "    num = 0\n",
    "    if damage[-1:] == \"K\":\n",
    "        num = float(damage[:-1]) * 1000\n",
    "    elif damage[-1:] == \"M\":\n",
    "        num = float(damage[:-1]) * 1000000\n",
    "    elif damage[-1:] == \"B\":\n",
    "        num = float(damage[:-1]) * 1000000000\n",
    "    return num"
   ]
  },
  {
   "cell_type": "code",
   "execution_count": 11,
   "metadata": {},
   "outputs": [
    {
     "data": {
      "text/plain": [
       "6502484699.24812"
      ]
     },
     "execution_count": 11,
     "metadata": {},
     "output_type": "execute_result"
    }
   ],
   "source": [
    "#Q8: What is the average damage (in dollars) caused by all hurricanes?\n",
    "sum = 0\n",
    "for i in range(project.count()):\n",
    "    sum += format_damage(project.get_damage(i))\n",
    "sum / project.count()"
   ]
  },
  {
   "cell_type": "code",
   "execution_count": 12,
   "metadata": {},
   "outputs": [
    {
     "data": {
      "text/plain": [
       "77"
      ]
     },
     "execution_count": 12,
     "metadata": {},
     "output_type": "execute_result"
    }
   ],
   "source": [
    "#Q9: How many deaths did hurricane 'Floyd' cause in total?\n",
    "total = 0\n",
    "for i in range(project.count()):\n",
    "        if project.get_name(i).lower() == \"floyd\":\n",
    "            total += project.get_deaths(i)\n",
    "total"
   ]
  },
  {
   "cell_type": "code",
   "execution_count": 13,
   "metadata": {},
   "outputs": [],
   "source": [
    "def get_month(date):\n",
    "    '''Returns the month when the date is the in the 'mm/dd/yyyy' format'''\n",
    "    return int(date[:2])\n",
    "\n",
    "def get_day(date):\n",
    "    '''Returns the day when the date is the in the 'mm/dd/yyyy' format'''\n",
    "    return int(date[3:5])\n",
    "\n",
    "\n",
    "def get_year(date):\n",
    "    '''Returns the year when the date is the in the 'mm/dd/yyyy' format'''\n",
    "    return int(date[-4:])\n",
    "\n",
    "# return index of deadliest hurricane over the given date range\n",
    "def deadliest_in_range(year1, year2):\n",
    "    worst_idx = None\n",
    "    for i in range(project.count()):\n",
    "        this_year = get_year(project.get_formed(i))\n",
    "        if year1 <= this_year <= year2:\n",
    "            this_deaths = project.get_deaths(i)\n",
    "            if worst_idx == None or project.get_deaths(worst_idx) < this_deaths:\n",
    "                worst_idx = i\n",
    "    return worst_idx"
   ]
  },
  {
   "cell_type": "code",
   "execution_count": 14,
   "metadata": {},
   "outputs": [
    {
     "data": {
      "text/plain": [
       "'Maria'"
      ]
     },
     "execution_count": 14,
     "metadata": {},
     "output_type": "execute_result"
    }
   ],
   "source": [
    "#Q10: What is the deadliest hurricane between 2000 and 2020 (inclusive)?\n",
    "project.get_name(deadliest_in_range(2000, 2020))"
   ]
  },
  {
   "cell_type": "code",
   "execution_count": 15,
   "metadata": {},
   "outputs": [
    {
     "data": {
      "text/plain": [
       "'San Ciriaco'"
      ]
     },
     "execution_count": 15,
     "metadata": {},
     "output_type": "execute_result"
    }
   ],
   "source": [
    "#Q11: What is the deadliest hurricane ever recorded?\n",
    "worst = None\n",
    "worst_idx = 0\n",
    "for i in range(project.count()):\n",
    "    this_deaths = project.get_deaths(i)\n",
    "    if worst == None or project.get_deaths(worst_idx) < this_deaths:\n",
    "        worst = project.get_name(i)\n",
    "        worst_idx = i\n",
    "worst"
   ]
  },
  {
   "cell_type": "code",
   "execution_count": 16,
   "metadata": {},
   "outputs": [
    {
     "data": {
      "text/plain": [
       "1966"
      ]
     },
     "execution_count": 16,
     "metadata": {},
     "output_type": "execute_result"
    }
   ],
   "source": [
    "#Q12: In what year did the most deadly hurricane form in 20th century (1901, 2000, inclusive)?\n",
    "get_year(project.get_formed(deadliest_in_range(1901, 2000)))"
   ]
  },
  {
   "cell_type": "code",
   "execution_count": 17,
   "metadata": {},
   "outputs": [
    {
     "data": {
      "text/plain": [
       "7940000000.0"
      ]
     },
     "execution_count": 17,
     "metadata": {},
     "output_type": "execute_result"
    }
   ],
   "source": [
    "#Q13: How much damage (in dollars) was done by the deadliest hurricane in the last decade (2000 ,2010, inclusive)?\n",
    "format_damage(project.get_damage(deadliest_in_range(2000, 2010)))"
   ]
  },
  {
   "cell_type": "code",
   "execution_count": 18,
   "metadata": {},
   "outputs": [
    {
     "data": {
      "text/plain": [
       "263027140000.0"
      ]
     },
     "execution_count": 18,
     "metadata": {},
     "output_type": "execute_result"
    }
   ],
   "source": [
    "#Q14: What is the total damage across all hurricanes that formed in the month of September, in dollars?\n",
    "total = 0\n",
    "for i in range(project.count()):\n",
    "    if get_month(project.get_formed(i)) == 9:\n",
    "        total += format_damage(project.get_damage(i))\n",
    "total"
   ]
  },
  {
   "cell_type": "code",
   "execution_count": 19,
   "metadata": {},
   "outputs": [],
   "source": [
    "# return number of huricanes formed in month mm\n",
    "def hurricanes_in_month(mm1, mm2 = -1):\n",
    "    num_of_hurricanes = 0\n",
    "    if mm2 == -1:\n",
    "        mm2 = mm1\n",
    "    for i in range(project.count()):\n",
    "        if mm1 == mm2 == get_month(project.get_formed(i)):\n",
    "            num_of_hurricanes += 1\n",
    "        elif mm1 <= get_month(project.get_formed(i)) <= mm2:\n",
    "            num_of_hurricanes += 1\n",
    "    return num_of_hurricanes"
   ]
  },
  {
   "cell_type": "code",
   "execution_count": 20,
   "metadata": {},
   "outputs": [
    {
     "data": {
      "text/plain": [
       "3"
      ]
     },
     "execution_count": 20,
     "metadata": {},
     "output_type": "execute_result"
    }
   ],
   "source": [
    "#Q15: How many hurricanes were formed in the month of December?\n",
    "hurricanes_in_month(12)"
   ]
  },
  {
   "cell_type": "code",
   "execution_count": 21,
   "metadata": {},
   "outputs": [
    {
     "data": {
      "text/plain": [
       "102"
      ]
     },
     "execution_count": 21,
     "metadata": {},
     "output_type": "execute_result"
    }
   ],
   "source": [
    "#Q16: How many hurricanes formed between August and November (inclusive)?\n",
    "hurricanes_in_month(8, 11)"
   ]
  },
  {
   "cell_type": "code",
   "execution_count": 22,
   "metadata": {},
   "outputs": [
    {
     "data": {
      "text/plain": [
       "3"
      ]
     },
     "execution_count": 22,
     "metadata": {},
     "output_type": "execute_result"
    }
   ],
   "source": [
    "#Q17: Which month experienced the formation of least number of hurricanes?\n",
    "least = 1\n",
    "for i in range(1,13):\n",
    "    if hurricanes_in_month(i) < hurricanes_in_month(least):\n",
    "        least = i\n",
    "least"
   ]
  },
  {
   "cell_type": "code",
   "execution_count": 23,
   "metadata": {},
   "outputs": [
    {
     "data": {
      "text/plain": [
       "17"
      ]
     },
     "execution_count": 23,
     "metadata": {},
     "output_type": "execute_result"
    }
   ],
   "source": [
    "#Q18: How many hurricanes were formed in this decade 2010-2020 (inclusive)?\n",
    "total = 0\n",
    "for i in range(project.count()):\n",
    "    this_year = get_year(project.get_formed(i))\n",
    "    if 2010 <= this_year <= 2020:\n",
    "        total += 1\n",
    "total"
   ]
  },
  {
   "cell_type": "code",
   "execution_count": 24,
   "metadata": {},
   "outputs": [
    {
     "data": {
      "text/plain": [
       "4"
      ]
     },
     "execution_count": 24,
     "metadata": {},
     "output_type": "execute_result"
    }
   ],
   "source": [
    "#Q19: How many years in the history experienced a hurricane that caused more than 1000 in deaths?\n",
    "year_list = []\n",
    "for i in range(project.count()):\n",
    "    year = get_year(project.get_formed(i)) # get the year this hurricane formed\n",
    "    if project.get_deaths(i) > 1000 and (not year in year_list): # check whether this hurricane caused more than 1000 deaths\n",
    "        year_list.append(year) \n",
    "len(year_list)"
   ]
  },
  {
   "cell_type": "code",
   "execution_count": 25,
   "metadata": {},
   "outputs": [
    {
     "data": {
      "text/plain": [
       "17"
      ]
     },
     "execution_count": 25,
     "metadata": {},
     "output_type": "execute_result"
    }
   ],
   "source": [
    "#Q20: How many years in the history experienced a hurricane that was faster than 150 mph?\n",
    "year_list = []\n",
    "for i in range(project.count()):\n",
    "    year = get_year(project.get_formed(i)) # get the year this hurricane formed\n",
    "    if project.get_mph(i) > 150 and (not year in year_list): # check whether this hurricane is faster than 150 mph\n",
    "        year_list.append(year)\n",
    "len(year_list)"
   ]
  },
  {
   "cell_type": "code",
   "execution_count": null,
   "metadata": {},
   "outputs": [],
   "source": []
  }
 ],
 "metadata": {
  "kernelspec": {
   "display_name": "Python 3",
   "language": "python",
   "name": "python3"
  },
  "language_info": {
   "codemirror_mode": {
    "name": "ipython",
    "version": 3
   },
   "file_extension": ".py",
   "mimetype": "text/x-python",
   "name": "python",
   "nbconvert_exporter": "python",
   "pygments_lexer": "ipython3",
   "version": "3.8.5"
  }
 },
 "nbformat": 4,
 "nbformat_minor": 4
}
