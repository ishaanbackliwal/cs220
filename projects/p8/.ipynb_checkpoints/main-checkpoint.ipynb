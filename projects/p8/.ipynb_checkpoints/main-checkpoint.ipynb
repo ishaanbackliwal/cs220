{
 "cells": [
  {
   "cell_type": "code",
   "execution_count": 1,
   "metadata": {},
   "outputs": [],
   "source": [
    "# project: p8\n",
    "# submitter: backliwal@wisc.edu\n",
    "# partner: none"
   ]
  },
  {
   "cell_type": "code",
   "execution_count": 2,
   "metadata": {},
   "outputs": [],
   "source": [
    "import csv\n",
    "import copy"
   ]
  },
  {
   "cell_type": "code",
   "execution_count": 3,
   "metadata": {},
   "outputs": [],
   "source": [
    "def get_mapping(path):\n",
    "    info = {}\n",
    "    with open(path) as file:\n",
    "        readFile = csv.reader(file, delimiter=',')\n",
    "        for row in readFile:\n",
    "            ID = row[0]\n",
    "            name = row[1]\n",
    "            info[ID] = name\n",
    "    return info"
   ]
  },
  {
   "cell_type": "code",
   "execution_count": 4,
   "metadata": {},
   "outputs": [
    {
     "data": {
      "text/plain": [
       "{'nm0000131': 'John Cusack',\n",
       " 'nm0000154': 'Mel Gibson',\n",
       " 'nm0000163': 'Dustin Hoffman',\n",
       " 'nm0000418': 'Danny Glover',\n",
       " 'nm0000432': 'Gene Hackman',\n",
       " 'nm0000997': 'Gary Busey',\n",
       " 'nm0001149': 'Richard Donner',\n",
       " 'nm0001219': 'Gary Fleder',\n",
       " 'nm0752751': 'Mitchell Ryan',\n",
       " 'tt0313542': 'Runaway Jury',\n",
       " 'tt0093409': 'Lethal Weapon'}"
      ]
     },
     "execution_count": 4,
     "metadata": {},
     "output_type": "execute_result"
    }
   ],
   "source": [
    "#Q1: What is returned by your get_mapping(\"small_mapping.csv\") function?\n",
    "small_mapping = get_mapping(\"small_mapping.csv\")\n",
    "small_mapping"
   ]
  },
  {
   "cell_type": "code",
   "execution_count": 5,
   "metadata": {},
   "outputs": [
    {
     "data": {
      "text/plain": [
       "'Gary Fleder'"
      ]
     },
     "execution_count": 5,
     "metadata": {},
     "output_type": "execute_result"
    }
   ],
   "source": [
    "#Q2: What is the value associated with the key \"nm0001219\"?\n",
    "small_mapping[\"nm0001219\"]"
   ]
  },
  {
   "cell_type": "code",
   "execution_count": 6,
   "metadata": {},
   "outputs": [
    {
     "data": {
      "text/plain": [
       "['John Cusack',\n",
       " 'Mel Gibson',\n",
       " 'Dustin Hoffman',\n",
       " 'Danny Glover',\n",
       " 'Gene Hackman',\n",
       " 'Gary Busey',\n",
       " 'Richard Donner',\n",
       " 'Gary Fleder',\n",
       " 'Mitchell Ryan']"
      ]
     },
     "execution_count": 6,
     "metadata": {},
     "output_type": "execute_result"
    }
   ],
   "source": [
    "#Q3: What are the values in the mapping (dictionary) associated with keys that begin with \"nm\"?\n",
    "nm_values = []\n",
    "for key in small_mapping:\n",
    "    if key[0:2] == \"nm\":\n",
    "        nm_values.append(small_mapping[key])\n",
    "nm_values        "
   ]
  },
  {
   "cell_type": "code",
   "execution_count": 7,
   "metadata": {},
   "outputs": [
    {
     "data": {
      "text/plain": [
       "['nm0000997', 'nm0001219']"
      ]
     },
     "execution_count": 7,
     "metadata": {},
     "output_type": "execute_result"
    }
   ],
   "source": [
    "#Q4: For people with \"Gary\" as their first name in the above mapping, which keys do they correspond to?\n",
    "gary_keys = []\n",
    "for key in small_mapping:\n",
    "    if small_mapping[key].split()[0] == \"Gary\":\n",
    "        gary_keys.append(key)\n",
    "gary_keys"
   ]
  },
  {
   "cell_type": "code",
   "execution_count": 8,
   "metadata": {},
   "outputs": [],
   "source": [
    "def get_raw_movies(path):\n",
    "    file = open(path, encoding=\"utf-8\")\n",
    "    reader = csv.reader(file)\n",
    "    data = list(reader)\n",
    "    file.close()\n",
    "    \n",
    "    csv_header = data[0]\n",
    "    csv_data = data[1:]\n",
    "    \n",
    "    raw_movies = []\n",
    "    for i in range(len(csv_data)):\n",
    "        row = csv_data[i]\n",
    "        movie_info = {}\n",
    "        for j in range(len(csv_header)):\n",
    "            if j == 1:\n",
    "                movie_info[csv_header[j]] = int(row[j])\n",
    "            elif j == 2:\n",
    "                movie_info[csv_header[j]] = float(row[j])\n",
    "            elif j == 3 or j== 4 or j == 5:\n",
    "                info_in_list = row[j].split(\",\")\n",
    "                movie_info[csv_header[j]] = info_in_list\n",
    "            else:\n",
    "                movie_info[csv_header[j]] = row[j]\n",
    "        raw_movies.append(movie_info)\n",
    "    return raw_movies"
   ]
  },
  {
   "cell_type": "code",
   "execution_count": 9,
   "metadata": {},
   "outputs": [
    {
     "data": {
      "text/plain": [
       "[{'title': 'tt0313542',\n",
       "  'year': 2003,\n",
       "  'rating': 7.1,\n",
       "  'directors': ['nm0001219'],\n",
       "  'actors': ['nm0000131', 'nm0000432', 'nm0000163'],\n",
       "  'genres': ['Crime', 'Drama', 'Thriller']},\n",
       " {'title': 'tt0093409',\n",
       "  'year': 1987,\n",
       "  'rating': 7.6,\n",
       "  'directors': ['nm0001149'],\n",
       "  'actors': ['nm0000154', 'nm0000418', 'nm0000997', 'nm0752751'],\n",
       "  'genres': ['Action', 'Crime', 'Thriller']}]"
      ]
     },
     "execution_count": 9,
     "metadata": {},
     "output_type": "execute_result"
    }
   ],
   "source": [
    "#Q5: What does get_raw_movies(\"small_movies.csv\") return?\n",
    "small_raw_movies = get_raw_movies(\"small_movies.csv\")\n",
    "small_raw_movies"
   ]
  },
  {
   "cell_type": "code",
   "execution_count": 10,
   "metadata": {},
   "outputs": [
    {
     "data": {
      "text/plain": [
       "4"
      ]
     },
     "execution_count": 10,
     "metadata": {},
     "output_type": "execute_result"
    }
   ],
   "source": [
    "#Q6: How many actors does the movie at index 1 have?\n",
    "len(small_raw_movies[1].get(\"actors\"))"
   ]
  },
  {
   "cell_type": "code",
   "execution_count": 11,
   "metadata": {},
   "outputs": [
    {
     "data": {
      "text/plain": [
       "'nm0000163'"
      ]
     },
     "execution_count": 11,
     "metadata": {},
     "output_type": "execute_result"
    }
   ],
   "source": [
    "#Q7: What is the ID of the last actor listed for the movie at index 0?\n",
    "small_raw_movies[0].get(\"actors\")[len(small_raw_movies[0].get(\"actors\"))-1]"
   ]
  },
  {
   "cell_type": "code",
   "execution_count": 12,
   "metadata": {},
   "outputs": [],
   "source": [
    "def get_movies(movies_path, mapping_path):\n",
    "    raw_movies = get_raw_movies(movies_path)\n",
    "    mapping = get_mapping(mapping_path)\n",
    "    for movie in range(len(raw_movies)):\n",
    "        raw_movies[movie][\"title\"] = mapping.get(raw_movies[movie].get(\"title\"))\n",
    "        for director in range(len(raw_movies[movie].get(\"directors\"))):\n",
    "            person = mapping.get(raw_movies[movie][\"directors\"][director])\n",
    "            raw_movies[movie][\"directors\"][director] = person\n",
    "        for actor in range(len(raw_movies[movie].get(\"actors\"))):\n",
    "            person = mapping.get(raw_movies[movie][\"actors\"][actor])\n",
    "            raw_movies[movie][\"actors\"][actor] = person\n",
    "    return raw_movies\n",
    "        "
   ]
  },
  {
   "cell_type": "code",
   "execution_count": 13,
   "metadata": {},
   "outputs": [
    {
     "data": {
      "text/plain": [
       "[{'title': 'Runaway Jury',\n",
       "  'year': 2003,\n",
       "  'rating': 7.1,\n",
       "  'directors': ['Gary Fleder'],\n",
       "  'actors': ['John Cusack', 'Gene Hackman', 'Dustin Hoffman'],\n",
       "  'genres': ['Crime', 'Drama', 'Thriller']},\n",
       " {'title': 'Lethal Weapon',\n",
       "  'year': 1987,\n",
       "  'rating': 7.6,\n",
       "  'directors': ['Richard Donner'],\n",
       "  'actors': ['Mel Gibson', 'Danny Glover', 'Gary Busey', 'Mitchell Ryan'],\n",
       "  'genres': ['Action', 'Crime', 'Thriller']}]"
      ]
     },
     "execution_count": 13,
     "metadata": {},
     "output_type": "execute_result"
    }
   ],
   "source": [
    "#Q8: What is small?\n",
    "small = get_movies(\"small_movies.csv\", \"small_mapping.csv\")\n",
    "small"
   ]
  },
  {
   "cell_type": "code",
   "execution_count": 14,
   "metadata": {},
   "outputs": [
    {
     "data": {
      "text/plain": [
       "'Lethal Weapon'"
      ]
     },
     "execution_count": 14,
     "metadata": {},
     "output_type": "execute_result"
    }
   ],
   "source": [
    "#Q9: What is small[1][\"title\"]?\n",
    "small[1][\"title\"]"
   ]
  },
  {
   "cell_type": "code",
   "execution_count": 15,
   "metadata": {},
   "outputs": [
    {
     "data": {
      "text/plain": [
       "['Mel Gibson', 'Danny Glover', 'Gary Busey', 'Mitchell Ryan']"
      ]
     },
     "execution_count": 15,
     "metadata": {},
     "output_type": "execute_result"
    }
   ],
   "source": [
    "#Q10: What is small[1][\"actors\"]?\n",
    "small[1][\"actors\"]"
   ]
  },
  {
   "cell_type": "code",
   "execution_count": 16,
   "metadata": {},
   "outputs": [
    {
     "data": {
      "text/plain": [
       "['Richard Donner']"
      ]
     },
     "execution_count": 16,
     "metadata": {},
     "output_type": "execute_result"
    }
   ],
   "source": [
    "#Q11: What is small[-1][\"directors\"]?\n",
    "small[-1][\"directors\"]"
   ]
  },
  {
   "cell_type": "code",
   "execution_count": 17,
   "metadata": {},
   "outputs": [],
   "source": [
    "movies = get_movies(\"movies.csv\", \"mapping.csv\")"
   ]
  },
  {
   "cell_type": "code",
   "execution_count": 18,
   "metadata": {},
   "outputs": [
    {
     "data": {
      "text/plain": [
       "[{'title': 'Tycoon',\n",
       "  'year': 1947,\n",
       "  'rating': 6.3,\n",
       "  'directors': ['Richard Wallace'],\n",
       "  'actors': ['John Wayne', 'Cedric Hardwicke'],\n",
       "  'genres': ['Adventure', 'Drama', 'Romance']},\n",
       " {'title': '7th Cavalry',\n",
       "  'year': 1956,\n",
       "  'rating': 5.9,\n",
       "  'directors': ['Joseph H. Lewis'],\n",
       "  'actors': ['Randolph Scott', 'Jay C. Flippen', 'Frank Faylen'],\n",
       "  'genres': ['Western']},\n",
       " {'title': '7 Men from Now',\n",
       "  'year': 1956,\n",
       "  'rating': 7.5,\n",
       "  'directors': ['Budd Boetticher'],\n",
       "  'actors': ['Randolph Scott', 'Lee Marvin', 'Walter Reed'],\n",
       "  'genres': ['Action', 'Western']}]"
      ]
     },
     "execution_count": 18,
     "metadata": {},
     "output_type": "execute_result"
    }
   ],
   "source": [
    "#Q12: What are the 88th to 90th (inclusive) rows in movies?\n",
    "movies[87:90]"
   ]
  },
  {
   "cell_type": "code",
   "execution_count": 19,
   "metadata": {},
   "outputs": [
    {
     "data": {
      "text/plain": [
       "[{'title': 'The Steam Experiment',\n",
       "  'year': 2009,\n",
       "  'rating': 4.0,\n",
       "  'directors': ['Philippe Martinez'],\n",
       "  'actors': ['Val Kilmer', 'Armand Assante', 'Eric Roberts'],\n",
       "  'genres': ['Mystery', 'Thriller']},\n",
       " {'title': 'The Disappearance of Flight 412',\n",
       "  'year': 1974,\n",
       "  'rating': 4.8,\n",
       "  'directors': ['Jud Taylor'],\n",
       "  'actors': ['Glenn Ford',\n",
       "   'Bradford Dillman',\n",
       "   'David Soul',\n",
       "   'Robert F. Lyons'],\n",
       "  'genres': ['Drama', 'Mystery', 'Sci-Fi']},\n",
       " {'title': 'Fortitude and Glory: Angelo Dundee and His Fighters',\n",
       "  'year': 2012,\n",
       "  'rating': 7.2,\n",
       "  'directors': ['Chris Tasara'],\n",
       "  'actors': ['Angelo Dundee', 'George Foreman', 'Freddie Roach'],\n",
       "  'genres': ['Sport']},\n",
       " {'title': 'Ivanhoe',\n",
       "  'year': 1952,\n",
       "  'rating': 6.8,\n",
       "  'directors': ['Richard Thorpe'],\n",
       "  'actors': ['Robert Taylor', 'George Sanders'],\n",
       "  'genres': ['Adventure', 'Drama', 'History']},\n",
       " {'title': 'The Great Gatsby',\n",
       "  'year': 1949,\n",
       "  'rating': 6.6,\n",
       "  'directors': ['Elliott Nugent'],\n",
       "  'actors': ['Alan Ladd', 'Macdonald Carey'],\n",
       "  'genres': ['Drama']}]"
      ]
     },
     "execution_count": 19,
     "metadata": {},
     "output_type": "execute_result"
    }
   ],
   "source": [
    "#Q13: What are the last 5 rows in movies?\n",
    "movies[(len(movies)-5):]"
   ]
  },
  {
   "cell_type": "code",
   "execution_count": 20,
   "metadata": {},
   "outputs": [],
   "source": [
    "# you are not allowed to change this function\n",
    "def filter_movies_by_year(movies, year):\n",
    "    i = 0\n",
    "    while i < len(movies):\n",
    "        if movies[i][\"year\"] != year:\n",
    "            movies.pop(i)\n",
    "        else:\n",
    "            i += 1\n",
    "    return movies"
   ]
  },
  {
   "cell_type": "code",
   "execution_count": 21,
   "metadata": {},
   "outputs": [
    {
     "data": {
      "text/plain": [
       "22"
      ]
     },
     "execution_count": 21,
     "metadata": {},
     "output_type": "execute_result"
    }
   ],
   "source": [
    "#Q14: What are the total number of movies from 1949?\n",
    "new_movies_list = copy.deepcopy(movies)\n",
    "len(filter_movies_by_year(new_movies_list,1949))"
   ]
  },
  {
   "cell_type": "code",
   "execution_count": 22,
   "metadata": {},
   "outputs": [
    {
     "data": {
      "text/plain": [
       "[{'title': \"Santa Claus Is Comin' to Town\",\n",
       "  'year': 1970,\n",
       "  'rating': 7.8,\n",
       "  'directors': ['Jules Bass', 'Arthur Rankin Jr.'],\n",
       "  'actors': ['Fred Astaire', 'Mickey Rooney', 'Keenan Wynn', 'Paul Frees'],\n",
       "  'genres': ['Adventure', 'Animation', 'Comedy']},\n",
       " {'title': 'The Brotherhood of the Bell',\n",
       "  'year': 1970,\n",
       "  'rating': 7.3,\n",
       "  'directors': ['Paul Wendkos'],\n",
       "  'actors': ['Glenn Ford', 'Dean Jagger', 'Maurice Evans'],\n",
       "  'genres': ['Drama', 'Thriller']}]"
      ]
     },
     "execution_count": 22,
     "metadata": {},
     "output_type": "execute_result"
    }
   ],
   "source": [
    "#Q15: What are the movies from 1970 with ratings greater than 7.0?\n",
    "new_movies_list = copy.deepcopy(movies)\n",
    "year_movies = filter_movies_by_year(new_movies_list, 1970)\n",
    "greater_rating_movies = []\n",
    "for i in range(len(year_movies)):\n",
    "    if year_movies[i].get(\"rating\") > 7.0:\n",
    "        greater_rating_movies.append(year_movies[i])\n",
    "greater_rating_movies"
   ]
  },
  {
   "cell_type": "code",
   "execution_count": 23,
   "metadata": {},
   "outputs": [],
   "source": [
    "def unique_values(category, dataset):\n",
    "    values = []\n",
    "    for i in range(len(dataset)):\n",
    "        if isinstance(dataset[i].get(category), list):\n",
    "            for j in range(len(dataset[i].get(category))):\n",
    "                if dataset[i].get(category)[j] not in values:\n",
    "                    values.append(dataset[i].get(category)[j])\n",
    "        elif dataset[i].get(category) not in values:\n",
    "                values.append(dataset[i].get(category))\n",
    "    return values"
   ]
  },
  {
   "cell_type": "code",
   "execution_count": 24,
   "metadata": {},
   "outputs": [
    {
     "data": {
      "text/plain": [
       "18"
      ]
     },
     "execution_count": 24,
     "metadata": {},
     "output_type": "execute_result"
    }
   ],
   "source": [
    "#Q16: How many unique genres are there in the dataset?\n",
    "len(unique_values(\"genres\",  movies))"
   ]
  },
  {
   "cell_type": "code",
   "execution_count": 25,
   "metadata": {},
   "outputs": [
    {
     "data": {
      "text/plain": [
       "2605"
      ]
     },
     "execution_count": 25,
     "metadata": {},
     "output_type": "execute_result"
    }
   ],
   "source": [
    "#Q17: How many unique actor names are there in the dataset?\n",
    "len(unique_values(\"actors\",  movies))"
   ]
  },
  {
   "cell_type": "code",
   "execution_count": 26,
   "metadata": {},
   "outputs": [
    {
     "data": {
      "text/plain": [
       "1247"
      ]
     },
     "execution_count": 26,
     "metadata": {},
     "output_type": "execute_result"
    }
   ],
   "source": [
    "#Q18: How many unique director names are there in the dataset?\n",
    "len(unique_values(\"directors\",  movies))"
   ]
  },
  {
   "cell_type": "code",
   "execution_count": 27,
   "metadata": {},
   "outputs": [
    {
     "data": {
      "text/plain": [
       "6.401659528907912"
      ]
     },
     "execution_count": 27,
     "metadata": {},
     "output_type": "execute_result"
    }
   ],
   "source": [
    "#Q19: What is the average rating for all movies?\n",
    "total = 0\n",
    "for i in range(len(movies)):\n",
    "    total += movies[i].get(\"rating\")\n",
    "total / len(movies)"
   ]
  },
  {
   "cell_type": "code",
   "execution_count": 28,
   "metadata": {},
   "outputs": [
    {
     "data": {
      "text/plain": [
       "'Dr. Strangelove or: How I Learned to Stop Worrying and Love the Bomb'"
      ]
     },
     "execution_count": 28,
     "metadata": {},
     "output_type": "execute_result"
    }
   ],
   "source": [
    "#Q20: What is the longest movie title in the dataset ?\n",
    "longest_num = 0\n",
    "longest_title = \"\"\n",
    "for i in range(len(movies)):\n",
    "    if longest_num < len(movies[i].get(\"title\")):\n",
    "        longest_num = len(movies[i].get(\"title\"))\n",
    "        longest_title = movies[i].get(\"title\")\n",
    "longest_title"
   ]
  },
  {
   "cell_type": "code",
   "execution_count": null,
   "metadata": {},
   "outputs": [],
   "source": []
  }
 ],
 "metadata": {
  "kernelspec": {
   "display_name": "Python 3",
   "language": "python",
   "name": "python3"
  },
  "language_info": {
   "codemirror_mode": {
    "name": "ipython",
    "version": 3
   },
   "file_extension": ".py",
   "mimetype": "text/x-python",
   "name": "python",
   "nbconvert_exporter": "python",
   "pygments_lexer": "ipython3",
   "version": "3.8.5"
  }
 },
 "nbformat": 4,
 "nbformat_minor": 4
}
