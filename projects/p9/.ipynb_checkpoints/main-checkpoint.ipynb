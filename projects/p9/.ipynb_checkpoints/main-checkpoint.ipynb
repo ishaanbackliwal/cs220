{
 "cells": [
  {
   "cell_type": "code",
   "execution_count": 1,
   "metadata": {},
   "outputs": [],
   "source": [
    "# project: p9\n",
    "# submitter: backliwal@wisc.edu\n",
    "# partner: none"
   ]
  },
  {
   "cell_type": "code",
   "execution_count": 2,
   "metadata": {},
   "outputs": [],
   "source": [
    "import csv\n",
    "import copy \n",
    "import matplotlib\n",
    "import pandas"
   ]
  },
  {
   "cell_type": "code",
   "execution_count": 3,
   "metadata": {},
   "outputs": [],
   "source": [
    "# Allows you to render matplotlib graphs in the same notebook\n",
    "%matplotlib inline \n",
    "\n",
    "def plot_dict(d, label=\"Please Label Me!!!\"):\n",
    "    ax = pandas.Series(d).sort_index().plot.bar(color=\"black\", fontsize=16)\n",
    "    ax.set_ylabel(label, fontsize=16)"
   ]
  },
  {
   "cell_type": "code",
   "execution_count": 4,
   "metadata": {},
   "outputs": [],
   "source": [
    "def get_mapping(path):\n",
    "    info = {}\n",
    "    with open(path) as file:\n",
    "        readFile = csv.reader(file, delimiter=',')\n",
    "        for row in readFile:\n",
    "            ID = row[0]\n",
    "            name = row[1]\n",
    "            info[ID] = name\n",
    "    return info"
   ]
  },
  {
   "cell_type": "code",
   "execution_count": 5,
   "metadata": {},
   "outputs": [],
   "source": [
    "def get_raw_movies(path):\n",
    "    file = open(path, encoding=\"utf-8\")\n",
    "    reader = csv.reader(file)\n",
    "    data = list(reader)\n",
    "    file.close()\n",
    "    \n",
    "    csv_header = data[0]\n",
    "    csv_data = data[1:]\n",
    "    \n",
    "    raw_movies = []\n",
    "    for i in range(len(csv_data)):\n",
    "        row = csv_data[i]\n",
    "        movie_info = {}\n",
    "        for j in range(len(csv_header)):\n",
    "            if j == 1:\n",
    "                movie_info[csv_header[j]] = int(row[j])\n",
    "            elif j == 2:\n",
    "                movie_info[csv_header[j]] = float(row[j])\n",
    "            elif j == 3 or j== 4 or j == 5:\n",
    "                info_in_list = row[j].split(\",\")\n",
    "                movie_info[csv_header[j]] = info_in_list\n",
    "            else:\n",
    "                movie_info[csv_header[j]] = row[j]\n",
    "        raw_movies.append(movie_info)\n",
    "    return raw_movies"
   ]
  },
  {
   "cell_type": "code",
   "execution_count": 6,
   "metadata": {},
   "outputs": [],
   "source": [
    "def get_movies(movies_path, mapping_path):\n",
    "    raw_movies = get_raw_movies(movies_path)\n",
    "    mapping = get_mapping(mapping_path)\n",
    "    for movie in range(len(raw_movies)):\n",
    "        raw_movies[movie][\"title\"] = mapping.get(raw_movies[movie].get(\"title\"))\n",
    "        for director in range(len(raw_movies[movie].get(\"directors\"))):\n",
    "            person = mapping.get(raw_movies[movie][\"directors\"][director])\n",
    "            raw_movies[movie][\"directors\"][director] = person\n",
    "        for actor in range(len(raw_movies[movie].get(\"actors\"))):\n",
    "            person = mapping.get(raw_movies[movie][\"actors\"][actor])\n",
    "            raw_movies[movie][\"actors\"][actor] = person\n",
    "    return raw_movies"
   ]
  },
  {
   "cell_type": "code",
   "execution_count": 7,
   "metadata": {},
   "outputs": [],
   "source": [
    "movies = get_movies(\"movies.csv\", \"mapping.csv\")"
   ]
  },
  {
   "cell_type": "code",
   "execution_count": 8,
   "metadata": {},
   "outputs": [
    {
     "data": {
      "text/plain": [
       "6.380867346938772"
      ]
     },
     "execution_count": 8,
     "metadata": {},
     "output_type": "execute_result"
    }
   ],
   "source": [
    "#q1 Find the average rating for movies with less than 4 actors (length of actor list < 4)?\n",
    "total = 0\n",
    "count = 0\n",
    "for i in range(len(movies)):\n",
    "    if len(movies[i].get(\"actors\")) < 4:\n",
    "        total += movies[i].get(\"rating\")\n",
    "        count += 1\n",
    "total / count"
   ]
  },
  {
   "cell_type": "code",
   "execution_count": 9,
   "metadata": {},
   "outputs": [
    {
     "data": {
      "text/plain": [
       "6.742857142857143"
      ]
     },
     "execution_count": 9,
     "metadata": {},
     "output_type": "execute_result"
    }
   ],
   "source": [
    "#q2 Find the average rating for movies with more than 5 actors (length of actor list > 5) ?\n",
    "total = 0\n",
    "count = 0\n",
    "for i in range(len(movies)):\n",
    "    if len(movies[i].get(\"actors\")) > 5:\n",
    "        total += movies[i].get(\"rating\")\n",
    "        count += 1\n",
    "total / count"
   ]
  },
  {
   "cell_type": "code",
   "execution_count": 10,
   "metadata": {},
   "outputs": [
    {
     "data": {
      "text/plain": [
       "6.413599999999994"
      ]
     },
     "execution_count": 10,
     "metadata": {},
     "output_type": "execute_result"
    }
   ],
   "source": [
    "#q3 What is the average rating of movies which start with the letter 'a' (case insensitive)?\n",
    "total = 0\n",
    "count = 0\n",
    "for i in range(len(movies)):\n",
    "    if movies[i].get(\"title\").lower().startswith(\"a\"):\n",
    "        total += movies[i].get(\"rating\")\n",
    "        count += 1\n",
    "total / count"
   ]
  },
  {
   "cell_type": "code",
   "execution_count": 11,
   "metadata": {},
   "outputs": [
    {
     "data": {
      "image/png": "[encoded data removed]",
      "text/plain": [
       "<Figure size 432x288 with 1 Axes>"
      ]
     },
     "metadata": {
      "needs_background": "light"
     },
     "output_type": "display_data"
    }
   ],
   "source": [
    "#q4 Plot the title vs rating of movies featuring \"Tom Cruise\".\n",
    "cruise_dict = {}\n",
    "for i in range(len(movies)):\n",
    "    if \"Tom Cruise\" in movies[i].get(\"actors\"):\n",
    "        cruise_dict[movies[i].get(\"title\")] = movies[i].get(\"rating\")\n",
    "plot_dict(cruise_dict, \"rating\")"
   ]
  },
  {
   "cell_type": "code",
   "execution_count": 12,
   "metadata": {},
   "outputs": [
    {
     "data": {
      "image/png": "[encoded data removed]",
      "text/plain": [
       "<Figure size 432x288 with 1 Axes>"
      ]
     },
     "metadata": {
      "needs_background": "light"
     },
     "output_type": "display_data"
    }
   ],
   "source": [
    "#q5 Plot the title vs rating of movies featuring \"Sylvester Stallone\".\n",
    "stallone_dict = {}\n",
    "for i in range(len(movies)):\n",
    "    if \"Sylvester Stallone\" in movies[i].get(\"actors\"):\n",
    "        stallone_dict[movies[i].get(\"title\")] = movies[i].get(\"rating\")\n",
    "plot_dict(stallone_dict, \"rating\")"
   ]
  },
  {
   "cell_type": "code",
   "execution_count": 13,
   "metadata": {},
   "outputs": [
    {
     "data": {
      "image/png": "[encoded data removed]",
      "text/plain": [
       "<Figure size 432x288 with 1 Axes>"
      ]
     },
     "metadata": {
      "needs_background": "light"
     },
     "output_type": "display_data"
    }
   ],
   "source": [
    "#q6 Plot the number of movies played by [\"John Wayne\", \"Glenn Ford\", \"Danny Glover\"].\n",
    "num_movies = {}\n",
    "wayne_count = 0\n",
    "ford_count = 0\n",
    "glover_count = 0\n",
    "for i in range(len(movies)):\n",
    "    if \"John Wayne\" in movies[i].get(\"actors\"):\n",
    "        if \"John Wayne\" not in num_movies:\n",
    "            num_movies[\"John Wayne\"] = 1\n",
    "        else:\n",
    "            num_movies[\"John Wayne\"] += 1\n",
    "    if \"Glenn Ford\" in movies[i].get(\"actors\"):\n",
    "        if \"Glenn Ford\" not in num_movies:\n",
    "            num_movies[\"Glenn Ford\"] = 1\n",
    "        else:\n",
    "            num_movies[\"Glenn Ford\"] += 1\n",
    "    if \"Danny Glover\" in movies[i].get(\"actors\"):\n",
    "        if \"Danny Glover\" not in num_movies:\n",
    "            num_movies[\"Danny Glover\"] = 1\n",
    "        else:\n",
    "            num_movies[\"Danny Glover\"] += 1\n",
    "plot_dict(num_movies, \"Number of Movies\")"
   ]
  },
  {
   "cell_type": "code",
   "execution_count": 14,
   "metadata": {},
   "outputs": [
    {
     "data": {
      "image/png": "[encoded data removed]",
      "text/plain": [
       "<Figure size 432x288 with 1 Axes>"
      ]
     },
     "metadata": {
      "needs_background": "light"
     },
     "output_type": "display_data"
    }
   ],
   "source": [
    "#q7 Plot the number of movies that start with each letter of the alphabet.\n",
    "letters = \"abcdefghijklmnopqrstuvwxyz\"\n",
    "letter_to_num_movies = {}\n",
    "for letter in letters:\n",
    "    letter_to_num_movies[letter] = 0\n",
    "    for i in range(len(movies)):\n",
    "        if movies[i].get(\"title\").lower().startswith(letter):\n",
    "            letter_to_num_movies[letter] += 1\n",
    "plot_dict(letter_to_num_movies, \"Number of Movies\")"
   ]
  },
  {
   "cell_type": "code",
   "execution_count": 15,
   "metadata": {},
   "outputs": [
    {
     "data": {
      "image/png": "[encoded data removed]",
      "text/plain": [
       "<Figure size 432x288 with 1 Axes>"
      ]
     },
     "metadata": {
      "needs_background": "light"
     },
     "output_type": "display_data"
    }
   ],
   "source": [
    "#q8: Plot the number of movies there are for each genre.\n",
    "genre_to_num_movies = {}\n",
    "\n",
    "for movie in movies:\n",
    "    for genre in movie['genres']:\n",
    "        if genre not in genre_to_num_movies:\n",
    "            genre_to_num_movies[genre] = 1\n",
    "        else:\n",
    "            genre_to_num_movies[genre] += 1\n",
    "plot_dict(genre_to_num_movies, \"Number of Movies\")"
   ]
  },
  {
   "cell_type": "code",
   "execution_count": 16,
   "metadata": {},
   "outputs": [
    {
     "data": {
      "text/plain": [
       "{'a': 6.413599999999994,\n",
       " 'b': 6.312264150943395,\n",
       " 'c': 6.337362637362637,\n",
       " 'd': 6.297101449275363,\n",
       " 'e': 6.128125000000001,\n",
       " 'f': 6.375609756097562,\n",
       " 'g': 6.443181818181819,\n",
       " 'h': 6.476829268292684,\n",
       " 'i': 6.714814814814817,\n",
       " 'j': 6.375,\n",
       " 'k': 6.316666666666666,\n",
       " 'l': 6.172368421052631,\n",
       " 'm': 6.650000000000002,\n",
       " 'n': 6.348148148148147,\n",
       " 'o': 6.5814814814814815,\n",
       " 'p': 6.160377358490566,\n",
       " 'q': 6.7,\n",
       " 'r': 6.371052631578949,\n",
       " 's': 6.216352201257862,\n",
       " 't': 6.5432000000000015,\n",
       " 'u': 6.15,\n",
       " 'v': 6.1000000000000005,\n",
       " 'w': 6.243076923076923,\n",
       " 'y': 6.285714285714286,\n",
       " 'z': 6.833333333333333}"
      ]
     },
     "execution_count": 16,
     "metadata": {},
     "output_type": "execute_result"
    }
   ],
   "source": [
    "#q9 For each letter of the alphabet (except 'x'), what is the average rating of movies that start with that letter (case insensitive)?\n",
    "letters = \"abcdefghijklmnopqrstuvwyz\" # No x this time!\n",
    "letter_to_num_movies = {}\n",
    "for letter in letters:\n",
    "    letter_to_num_movies[letter] = 0\n",
    "    ratings = []\n",
    "    for movie in movies:\n",
    "        if movie[\"title\"].lower().startswith(letter):\n",
    "            ratings.append(movie[\"rating\"])\n",
    "    letter_to_num_movies[letter] = sum(ratings) / len(ratings)\n",
    "letter_to_num_movies"
   ]
  },
  {
   "cell_type": "code",
   "execution_count": 17,
   "metadata": {},
   "outputs": [
    {
     "data": {
      "text/plain": [
       "{'Comedy': 6.3146391752577395,\n",
       " 'Drama': 6.529707495429615,\n",
       " 'Romance': 6.474147727272729,\n",
       " 'History': 6.661643835616438,\n",
       " 'Family': 6.512941176470589,\n",
       " 'Mystery': 6.275206611570249,\n",
       " 'Thriller': 5.981999999999998,\n",
       " 'Action': 6.125752508361202,\n",
       " 'Crime': 6.355182072829133,\n",
       " 'Adventure': 6.612367491166079,\n",
       " 'Western': 6.455309734513275,\n",
       " 'Music': 6.3947368421052655,\n",
       " 'Animation': 7.1533333333333315,\n",
       " 'Sport': 6.527083333333334,\n",
       " 'Fantasy': 6.405084745762712,\n",
       " 'War': 6.771717171717175,\n",
       " 'Sci-Fi': 6.104347826086958,\n",
       " 'Horror': 5.724705882352941}"
      ]
     },
     "execution_count": 17,
     "metadata": {},
     "output_type": "execute_result"
    }
   ],
   "source": [
    "#q10 What is the average movie rating for each genre?\n",
    "genre_to_avg_rating = {}\n",
    "for movie in movies:\n",
    "    ratings = []\n",
    "    for genre in movie[\"genres\"]:\n",
    "        if genre not in genre_to_avg_rating:\n",
    "            genre_to_avg_rating[genre] = 0\n",
    "        genre_to_avg_rating[genre] += movie[\"rating\"]\n",
    "for key in genre_to_avg_rating:\n",
    "    genre_to_avg_rating[key] = genre_to_avg_rating[key] / genre_to_num_movies[key]\n",
    "        \n",
    "genre_to_avg_rating"
   ]
  },
  {
   "cell_type": "code",
   "execution_count": 18,
   "metadata": {},
   "outputs": [
    {
     "data": {
      "text/plain": [
       "{'Comedy': 484,\n",
       " 'Drama': 1085,\n",
       " 'Romance': 352,\n",
       " 'History': 73,\n",
       " 'Family': 84,\n",
       " 'Mystery': 117,\n",
       " 'Thriller': 243,\n",
       " 'Action': 289,\n",
       " 'Crime': 351,\n",
       " 'Adventure': 280,\n",
       " 'Western': 226,\n",
       " 'Music': 38,\n",
       " 'Animation': 45,\n",
       " 'Sport': 47,\n",
       " 'Fantasy': 58,\n",
       " 'War': 99,\n",
       " 'Sci-Fi': 67,\n",
       " 'Horror': 81}"
      ]
     },
     "execution_count": 18,
     "metadata": {},
     "output_type": "execute_result"
    }
   ],
   "source": [
    "#q11 How many movies in each genre have a rating of above 4.0? (rating > 4.0)\n",
    "genre_above_rating = {}\n",
    "for movie in movies:\n",
    "    ratings = []\n",
    "    for genre in movie[\"genres\"]:\n",
    "        if genre not in genre_above_rating:\n",
    "            genre_above_rating[genre] = 0\n",
    "        if movie[\"rating\"] > 4.0:\n",
    "            genre_above_rating[genre] += 1\n",
    "genre_above_rating"
   ]
  },
  {
   "cell_type": "code",
   "execution_count": 19,
   "metadata": {},
   "outputs": [
    {
     "data": {
      "image/png": "[encoded data removed]",
      "text/plain": [
       "<Figure size 432x288 with 1 Axes>"
      ]
     },
     "metadata": {
      "needs_background": "light"
     },
     "output_type": "display_data"
    }
   ],
   "source": [
    "#q12 Plot the number of movies that were released each year in the last decade (2010<= year <=2020)\n",
    "year_to_num_movies = {}\n",
    "for movie in movies:\n",
    "    if movie[\"year\"] >= 2010 and movie[\"year\"] <= 2020:\n",
    "        if movie[\"year\"] not in year_to_num_movies:\n",
    "            year_to_num_movies[movie[\"year\"]] = 1\n",
    "        else:\n",
    "            year_to_num_movies[movie[\"year\"]] += 1\n",
    "plot_dict(year_to_num_movies, \"Number of Releases\")"
   ]
  },
  {
   "cell_type": "code",
   "execution_count": 20,
   "metadata": {},
   "outputs": [
    {
     "data": {
      "text/plain": [
       "[2015]"
      ]
     },
     "execution_count": 20,
     "metadata": {},
     "output_type": "execute_result"
    }
   ],
   "source": [
    "#q13 Which year (or years) had the highest number of movie releases?\n",
    "highest_release_years = []\n",
    "highest = 0\n",
    "num_releases = {}\n",
    "for movie in movies:\n",
    "    if movie[\"year\"] not in num_releases:\n",
    "        num_releases[movie[\"year\"]] = 1\n",
    "    else:\n",
    "        num_releases[movie[\"year\"]] += 1\n",
    "for year in num_releases:\n",
    "    if num_releases[year] > highest:\n",
    "        highest_release_years.clear()\n",
    "        highest_release_years.append(year)\n",
    "        highest = num_releases[year]\n",
    "    elif num_releases[year] == highest:\n",
    "        highest_release_years.append(year)\n",
    "        highest = num_releases[year]\n",
    "highest_release_years"
   ]
  },
  {
   "cell_type": "code",
   "execution_count": 21,
   "metadata": {},
   "outputs": [
    {
     "data": {
      "text/plain": [
       "['Music', 'Animation', 'Sport', 'Fantasy', 'Sci-Fi']"
      ]
     },
     "execution_count": 21,
     "metadata": {},
     "output_type": "execute_result"
    }
   ],
   "source": [
    "#q14 Which 5 genres have the least number of movies?\n",
    "genre_count = {}\n",
    "genres = []\n",
    "for movie in movies:\n",
    "    ratings = []\n",
    "    for genre in movie[\"genres\"]:\n",
    "        if genre not in genres:\n",
    "            genres.append(genre)\n",
    "        if genre not in genre_count:\n",
    "            genre_count[genre] = 1\n",
    "        else:\n",
    "            genre_count[genre] += 1\n",
    "\n",
    "def genre_sort(genre_name):\n",
    "    return genre_count[genre_name]\n",
    "\n",
    "sorted(genres, key = genre_sort)[:5]"
   ]
  },
  {
   "cell_type": "code",
   "execution_count": 22,
   "metadata": {},
   "outputs": [
    {
     "data": {
      "text/plain": [
       "['Action', 'Romance', 'Crime', 'Comedy', 'Drama']"
      ]
     },
     "execution_count": 22,
     "metadata": {},
     "output_type": "execute_result"
    }
   ],
   "source": [
    "#q15 Which 5 genres have the most number of movies?\n",
    "sorted(genres, key = genre_sort)[-5:]"
   ]
  },
  {
   "cell_type": "code",
   "execution_count": 23,
   "metadata": {},
   "outputs": [
    {
     "data": {
      "text/plain": [
       "['Robert De Niro',\n",
       " 'Robert Mitchum',\n",
       " 'Glenn Ford',\n",
       " 'George Sanders',\n",
       " 'Randolph Scott',\n",
       " 'Henry Fonda',\n",
       " 'Anthony Quinn',\n",
       " 'Mickey Rooney',\n",
       " 'Eric Roberts',\n",
       " 'John Wayne']"
      ]
     },
     "execution_count": 23,
     "metadata": {},
     "output_type": "execute_result"
    }
   ],
   "source": [
    "#q16 Which 10 actors are featured in the most movies?\n",
    "actor_count = {}\n",
    "actors = []\n",
    "for movie in movies:\n",
    "    ratings = []\n",
    "    for actor in movie[\"actors\"]:\n",
    "        if actor not in actors:\n",
    "            actors.append(actor)\n",
    "        if actor not in actor_count:\n",
    "            actor_count[actor] = 1\n",
    "        else:\n",
    "            actor_count[actor] += 1\n",
    "\n",
    "def actor_sort(actor_name):\n",
    "    return actor_count[actor_name]\n",
    "\n",
    "sorted(actors, key = actor_sort)[-10:]"
   ]
  },
  {
   "cell_type": "code",
   "execution_count": 24,
   "metadata": {},
   "outputs": [
    {
     "data": {
      "text/plain": [
       "'John Wayne'"
      ]
     },
     "execution_count": 24,
     "metadata": {},
     "output_type": "execute_result"
    }
   ],
   "source": [
    "#q17 Which actor has played in the greatest number of movies?\n",
    "sorted(actors, key = actor_sort)[-1]"
   ]
  },
  {
   "cell_type": "code",
   "execution_count": 25,
   "metadata": {},
   "outputs": [
    {
     "data": {
      "text/plain": [
       "1926"
      ]
     },
     "execution_count": 25,
     "metadata": {},
     "output_type": "execute_result"
    }
   ],
   "source": [
    "#q18 How many actors have only acted in only 1 movie?\n",
    "count = 0\n",
    "for actor in actor_count:\n",
    "    if actor_count[actor] == 1:\n",
    "        count += 1\n",
    "count"
   ]
  },
  {
   "cell_type": "code",
   "execution_count": 26,
   "metadata": {},
   "outputs": [
    {
     "data": {
      "text/plain": [
       "['The Godfather: Part II', 'The Dark Knight', 'The Godfather']"
      ]
     },
     "execution_count": 26,
     "metadata": {},
     "output_type": "execute_result"
    }
   ],
   "source": [
    "#q19 What are the titles of the top 3 rated movies in the dataset?\n",
    "titles = []\n",
    "title_ratings = {}\n",
    "for movie in movies:\n",
    "    if movie not in titles:\n",
    "        titles.append(movie[\"title\"])\n",
    "        title_ratings[movie[\"title\"]] = movie[\"rating\"]\n",
    "def title_rating_sort(title):\n",
    "    return title_ratings[title]\n",
    "sorted(titles, key = title_rating_sort)[-3:]"
   ]
  },
  {
   "cell_type": "code",
   "execution_count": 27,
   "metadata": {},
   "outputs": [
    {
     "data": {
      "text/plain": [
       "['Silk',\n",
       " 'Stealing Las Vegas',\n",
       " 'Singularity',\n",
       " 'Body and Soul',\n",
       " 'Garden of the Dead',\n",
       " 'Beyond the Ring',\n",
       " \"Hitman's Run\",\n",
       " 'Betrayal',\n",
       " \"Jake's Road\",\n",
       " 'The Trouble with Spies',\n",
       " '2 Bedroom 1 Bath',\n",
       " 'Victim of Desire',\n",
       " 'Arsenal',\n",
       " 'Woman of Desire',\n",
       " 'Sweet Justice',\n",
       " 'Falcon Beach',\n",
       " 'The Flying Dutchman',\n",
       " 'The Mark: Redemption',\n",
       " 'The Steam Experiment']"
      ]
     },
     "execution_count": 27,
     "metadata": {},
     "output_type": "execute_result"
    }
   ],
   "source": [
    "#q20 What are the titles of the bottom 19 rated movies in the dataset?\n",
    "sorted(titles, key = title_rating_sort)[:19]"
   ]
  },
  {
   "cell_type": "code",
   "execution_count": null,
   "metadata": {},
   "outputs": [],
   "source": []
  }
 ],
 "metadata": {
  "kernelspec": {
   "display_name": "Python 3",
   "language": "python",
   "name": "python3"
  },
  "language_info": {
   "codemirror_mode": {
    "name": "ipython",
    "version": 3
   },
   "file_extension": ".py",
   "mimetype": "text/x-python",
   "name": "python",
   "nbconvert_exporter": "python",
   "pygments_lexer": "ipython3",
   "version": "3.8.5"
  }
 },
 "nbformat": 4,
 "nbformat_minor": 4
}
