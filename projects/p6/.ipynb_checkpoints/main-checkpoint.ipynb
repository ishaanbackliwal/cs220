{
 "cells": [
  {
   "cell_type": "code",
   "execution_count": 1,
   "metadata": {},
   "outputs": [],
   "source": [
    "# project: p6\n",
    "# submitter: backliwal@wisc.edu\n",
    "# partner: none"
   ]
  },
  {
   "cell_type": "code",
   "execution_count": 2,
   "metadata": {},
   "outputs": [],
   "source": [
    "import csv\n",
    "\n",
    "# copied from https://automatetheboringstuff.com/chapter14/\n",
    "def process_csv(filename):\n",
    "    exampleFile = open(filename, encoding=\"utf-8\")\n",
    "    exampleReader = csv.reader(exampleFile)\n",
    "    exampleData = list(exampleReader)\n",
    "    exampleFile.close()\n",
    "    return exampleData\n",
    "\n",
    "# use process_csv to pull out the header and data rows\n",
    "csv_rows = process_csv(\"airbnb.csv\")\n",
    "csv_header = csv_rows[0]\n",
    "csv_data = csv_rows[1:]"
   ]
  },
  {
   "cell_type": "code",
   "execution_count": 3,
   "metadata": {},
   "outputs": [
    {
     "data": {
      "text/plain": [
       "['Brooklyn', 'Manhattan', 'Queens', 'Staten Island', 'Bronx']"
      ]
     },
     "execution_count": 3,
     "metadata": {},
     "output_type": "execute_result"
    }
   ],
   "source": [
    "#Q1: What neighborhood groups are present in the airbnb dataset?\n",
    "groups = []\n",
    "for i in range(len(csv_data)):\n",
    "    name = csv_data[i][csv_header.index(\"neighborhood_group\")]\n",
    "    if name not in groups:\n",
    "        groups.append(name)\n",
    "groups[0:]"
   ]
  },
  {
   "cell_type": "code",
   "execution_count": 4,
   "metadata": {},
   "outputs": [
    {
     "data": {
      "text/plain": [
       "152.7206871868289"
      ]
     },
     "execution_count": 4,
     "metadata": {},
     "output_type": "execute_result"
    }
   ],
   "source": [
    "#Q2: What is the average price?\n",
    "add = 0\n",
    "for i in range(len(csv_data)):\n",
    "    add += int(csv_data[i][csv_header.index(\"price\")])\n",
    "add / (len(csv_rows)-1)"
   ]
  },
  {
   "cell_type": "code",
   "execution_count": 5,
   "metadata": {},
   "outputs": [
    {
     "data": {
      "text/plain": [
       "368"
      ]
     },
     "execution_count": 5,
     "metadata": {},
     "output_type": "execute_result"
    }
   ],
   "source": [
    "#Q3: Count the number of rooms located in neighborhood \"Chinatown\"? (neighborhood==\"Chinatown\")\n",
    "add = 0\n",
    "for i in range(len(csv_data)):\n",
    "    if csv_data[i][csv_header.index(\"neighborhood\")] == \"Chinatown\":\n",
    "        add += 1\n",
    "add"
   ]
  },
  {
   "cell_type": "code",
   "execution_count": 6,
   "metadata": {},
   "outputs": [],
   "source": [
    "def cell(row_idx, col_name):\n",
    "    col_idx = csv_header.index(col_name)\n",
    "    val = csv_data[row_idx][col_idx]\n",
    "    if val == \"\":\n",
    "        return None\n",
    "    if col_name == \"price\":\n",
    "        return int(val)\n",
    "    return val"
   ]
  },
  {
   "cell_type": "code",
   "execution_count": 7,
   "metadata": {},
   "outputs": [
    {
     "data": {
      "text/plain": [
       "['UWS MANHATTAN APT FOR SUPERBOWL WE',\n",
       " 'SuperBowl West Village Apartment',\n",
       " 'SUPERBOWL!! 2 Bd, 2 Ba w Roof Deck!',\n",
       " '1500 sq ft apt sleeps 8 - SuperBowl',\n",
       " 'Superbowl Studio Upper West Side',\n",
       " '1BR Superbowl rental Hells Kitchen',\n",
       " 'Superbowl - NYC Apartment',\n",
       " 'Tribeca Loft for Superbowl Wknd',\n",
       " 'NYC SuperBowl Wk 5 Bdrs River View ',\n",
       " 'Downtown NY Apt - SuperBowl Weekend',\n",
       " 'SuperBowl Penthouse Loft 3,000 sqft',\n",
       " 'Superbowl in the West Village',\n",
       " 'SUPERBOWLSUNDAY! 3BLOCK FROM TIMESQ',\n",
       " 'Super Apt for Superbowl',\n",
       " 'PERFECT SUPERBOWL STAY',\n",
       " 'MANHATTAN SUPERBOWL ACCOMODATION',\n",
       " 'SuperBowl Weekend Rental! 3 BR/1ba']"
      ]
     },
     "execution_count": 7,
     "metadata": {},
     "output_type": "execute_result"
    }
   ],
   "source": [
    "#Q4: Find the room names containing \"superbowl\" (case insensitive)\n",
    "superbowl_rooms = []\n",
    "for i in range(len(csv_data)):\n",
    "    room_name = cell(i, \"name\")\n",
    "    if room_name == None:\n",
    "        continue\n",
    "    room_name_lower = room_name.lower()\n",
    "    if \"superbowl\" in room_name_lower:\n",
    "        superbowl_rooms.append(room_name)\n",
    "superbowl_rooms"
   ]
  },
  {
   "cell_type": "code",
   "execution_count": 8,
   "metadata": {},
   "outputs": [
    {
     "data": {
      "text/plain": [
       "['Dream Room in Sunnyside New York',\n",
       " 'The Dream Room near Barclays Center',\n",
       " 'Dream Room in Modern Apartment',\n",
       " 'Lower East Dream Room!',\n",
       " 'The Dream Room (Private Room)',\n",
       " 'DREAM ROOM: gorgegous renovated 1bd, 1 bath',\n",
       " 'Exclusive Dream room 8 mins from JFK Smoking OK!',\n",
       " 'King Size Dream Room',\n",
       " 'KingSize Dream Room']"
      ]
     },
     "execution_count": 8,
     "metadata": {},
     "output_type": "execute_result"
    }
   ],
   "source": [
    "#Q5: Find the room names containing \"dream room\" (case insensitive)\n",
    "dream_rooms = []\n",
    "for i in range(len(csv_data)):\n",
    "    room_name = cell(i, \"name\")\n",
    "    if room_name == None:\n",
    "        continue\n",
    "    room_name_lower = room_name.lower()\n",
    "    if \"dream room\" in room_name_lower:\n",
    "        dream_rooms.append(room_name)\n",
    "dream_rooms"
   ]
  },
  {
   "cell_type": "code",
   "execution_count": 9,
   "metadata": {},
   "outputs": [
    {
     "data": {
      "text/plain": [
       "['One Bedroom Mini studio - Free WIFI',\n",
       " 'Great Chelsea Location, Couch/2nd bed, Free WiFi',\n",
       " 'Private 2 BR APT: Free WIFI & JACUZZI',\n",
       " 'PRIVATE 1BR APT: Free WIFI & DIRECT TV',\n",
       " 'Landmark 1 Bedroom has 2 beds, Free WiFi',\n",
       " 'Modern and Safe Place,Free Wifi',\n",
       " 'Newly renovated 2 bedroom with FREE WIFI',\n",
       " '*NO GUEST SERVICE FEE* Beekman Tower Studio with Queen Bed & Free Wifi',\n",
       " '*NO GUEST SERVICE FEE* Beekman Tower One Bedroom Suite with Queen Bed & Free Wifi',\n",
       " 'Sunny Hudson Yards/ Chelsea Studio, Free WiFi',\n",
       " 'Private Bedroom in MANHATTAN (Free Wifi)',\n",
       " 'J- LUXURY SHARED ROOM, AC FREE WIFI+CABLE GARDEN',\n",
       " 'J- *LUXURY SHARED ROOM AC FREE WIFI CABLE, GARDEN',\n",
       " 'J- **LUXURY SHARED ROOM 2PPL FREE WIFI+CABLE+AC',\n",
       " '5min walk to L train - Free WiFi & Cleaning',\n",
       " 'J- HOTEL STYLE SHARE ROOM FOR 2PPL FREE WIFI CABLE',\n",
       " 'Explore NYC From Our Private Studio w/Free Wifi',\n",
       " 'Staten Island - Free Wifi, Parking Space, Near NYC',\n",
       " 'BIG BEDROOM CLOSE TO LA GUARDIA AIRPORT FREE WIFI',\n",
       " 'J- COZY ROOM FOR 1 FEMALE FREE WIFI & COFFEE']"
      ]
     },
     "execution_count": 9,
     "metadata": {},
     "output_type": "execute_result"
    }
   ],
   "source": [
    "#Q6: Find the room names containing \"free wifi\" (case insensitive)\n",
    "free_wifi_rooms = []\n",
    "for i in range(len(csv_data)):\n",
    "    room_name = cell(i, \"name\")\n",
    "    if room_name == None:\n",
    "        continue\n",
    "    room_name_lower = room_name.lower()\n",
    "    if \"free wifi\" in room_name_lower:\n",
    "        free_wifi_rooms.append(room_name)\n",
    "free_wifi_rooms"
   ]
  },
  {
   "cell_type": "code",
   "execution_count": 10,
   "metadata": {},
   "outputs": [
    {
     "data": {
      "text/plain": [
       "['Yolande']"
      ]
     },
     "execution_count": 10,
     "metadata": {},
     "output_type": "execute_result"
    }
   ],
   "source": [
    "#Q7: Which host names (host_name column) are anagrams of the phrase \"landeyo\"?\n",
    "phrase = \"landeyo\"\n",
    "anagrams = []\n",
    "for i in range(len(csv_data)):\n",
    "    name = csv_data[i][csv_header.index(\"host_name\")]\n",
    "    if sorted(name.lower()) == sorted(phrase.lower()):\n",
    "        anagrams.append(name)\n",
    "anagrams"
   ]
  },
  {
   "cell_type": "code",
   "execution_count": 11,
   "metadata": {},
   "outputs": [
    {
     "data": {
      "text/plain": [
       "['568684',\n",
       " '1615764',\n",
       " '4204302',\n",
       " '5431845',\n",
       " '6169897',\n",
       " '8341919',\n",
       " '8668115',\n",
       " '10053943',\n",
       " '11096888',\n",
       " '12888849',\n",
       " '20990053',\n",
       " '27362309',\n",
       " '30378211',\n",
       " '35834935']"
      ]
     },
     "execution_count": 11,
     "metadata": {},
     "output_type": "execute_result"
    }
   ],
   "source": [
    "#Q8: List all room ids that require the minimum nights greater than 365 days (minimum_nights > 365).\n",
    "room_ids = []\n",
    "for i in range(len(csv_data)):\n",
    "    min_nights = int(csv_data[i][csv_header.index(\"minimum_nights\")])\n",
    "    if min_nights > 365:\n",
    "        room_ids.append(csv_data[i][csv_header.index(\"room_id\")])\n",
    "room_ids"
   ]
  },
  {
   "cell_type": "code",
   "execution_count": 12,
   "metadata": {},
   "outputs": [
    {
     "data": {
      "text/plain": [
       "['1475015',\n",
       " '7503643',\n",
       " '16098958',\n",
       " '30283594',\n",
       " '61391963',\n",
       " '22541573',\n",
       " '107434423',\n",
       " '12243051',\n",
       " '137358866',\n",
       " '200380610',\n",
       " '219517861']"
      ]
     },
     "execution_count": 12,
     "metadata": {},
     "output_type": "execute_result"
    }
   ],
   "source": [
    "#Q9: List all host ids who are hosting greater than 50 rooms. (calculated_host_listings_count > 50)\n",
    "ids = []\n",
    "for i in range(len(csv_data)):\n",
    "    hosting_num = int(csv_data[i][csv_header.index(\"calculated_host_listings_count\")])\n",
    "    host_id = csv_data[i][csv_header.index(\"host_id\")]\n",
    "    if hosting_num > 50 and host_id not in ids:\n",
    "        ids.append(host_id)\n",
    "ids"
   ]
  },
  {
   "cell_type": "code",
   "execution_count": 13,
   "metadata": {},
   "outputs": [
    {
     "data": {
      "text/plain": [
       "['Huge Brooklyn Brownstone Living, Close to it all.',\n",
       " 'MARTIAL LOFT 3: REDEMPTION (upstairs, 2nd room)',\n",
       " 'Sunny, Quiet Room in Greenpoint',\n",
       " 'Modern apartment in the heart of Williamsburg',\n",
       " 'Spacious comfortable master bedroom with nice view',\n",
       " 'Contemporary bedroom in brownstone with nice view',\n",
       " 'Cozy yet spacious private brownstone bedroom',\n",
       " 'Coliving in Brooklyn! Modern design / Shared room',\n",
       " 'Best Coliving space ever! Shared room.']"
      ]
     },
     "execution_count": 13,
     "metadata": {},
     "output_type": "execute_result"
    }
   ],
   "source": [
    "#Q10: What are the names of the cheapest rooms in Brooklyn (neighborhood_group == \"Brooklyn\")?\n",
    "cheapest_rooms = []\n",
    "cheapest_price = 1e99\n",
    "for i in range(len(csv_data)):\n",
    "    if csv_data[i][csv_header.index(\"neighborhood_group\")] == \"Brooklyn\":\n",
    "        price = int(csv_data[i][csv_header.index(\"price\")])\n",
    "        room_name = csv_data[i][csv_header.index(\"name\")]\n",
    "        if price == cheapest_price:\n",
    "            cheapest_rooms.append(room_name)\n",
    "        elif price < cheapest_price:\n",
    "            cheapest_rooms.clear()\n",
    "            cheapest_rooms.append(room_name)\n",
    "            cheapest_price = price\n",
    "cheapest_rooms"
   ]
  },
  {
   "cell_type": "code",
   "execution_count": 14,
   "metadata": {},
   "outputs": [
    {
     "data": {
      "text/plain": [
       "['the best you can find']"
      ]
     },
     "execution_count": 14,
     "metadata": {},
     "output_type": "execute_result"
    }
   ],
   "source": [
    "#Q11: What are the names of the cheapest rooms in Manhattan (neighborhood_group == \"Manhattan\")?\n",
    "cheapest_rooms = []\n",
    "cheapest_price = 1e99\n",
    "for i in range(len(csv_data)):\n",
    "    if csv_data[i][csv_header.index(\"neighborhood_group\")] == \"Manhattan\":\n",
    "        price = int(csv_data[i][csv_header.index(\"price\")])\n",
    "        room_name = csv_data[i][csv_header.index(\"name\")]\n",
    "        if price == cheapest_price:\n",
    "            cheapest_rooms.append(room_name)\n",
    "        elif price < cheapest_price:\n",
    "            cheapest_rooms.clear()\n",
    "            cheapest_rooms.append(room_name)\n",
    "            cheapest_price = price\n",
    "cheapest_rooms"
   ]
  },
  {
   "cell_type": "code",
   "execution_count": 15,
   "metadata": {},
   "outputs": [
    {
     "data": {
      "text/plain": [
       "1.022127111023942"
      ]
     },
     "execution_count": 15,
     "metadata": {},
     "output_type": "execute_result"
    }
   ],
   "source": [
    "#Q12: What is the average ratio of the number of reviews to availiability? (Ignore rooms that has availability_365==0).\n",
    "ratio_sum = 0;\n",
    "count = 0\n",
    "for i in range(len(csv_data)):\n",
    "    avail = int(csv_data[i][csv_header.index(\"availability_365\")])\n",
    "    reviews = int(csv_data[i][csv_header.index(\"number_of_reviews\")])\n",
    "    if avail != 0:\n",
    "        ratio_sum += reviews / avail\n",
    "        count += 1\n",
    "float(ratio_sum / count)"
   ]
  },
  {
   "cell_type": "code",
   "execution_count": 16,
   "metadata": {},
   "outputs": [
    {
     "data": {
      "text/plain": [
       "['18750597']"
      ]
     },
     "execution_count": 16,
     "metadata": {},
     "output_type": "execute_result"
    }
   ],
   "source": [
    "#Q13: Which room ids have the cheapest price among rooms within (40.50 <= latitude <= 40.75, -74.00 <= longitude <= -73.95)\n",
    "cheapest_rooms = []\n",
    "cheapest_price = 1e99\n",
    "for i in range(len(csv_data)):\n",
    "    longitude = float(csv_data[i][csv_header.index(\"longitude\")])\n",
    "    latitude = float(csv_data[i][csv_header.index(\"latitude\")])\n",
    "    if (40.5 <= latitude <= 40.75) and (-74 <= longitude <= -73.95):\n",
    "        price = int(csv_data[i][csv_header.index(\"price\")])\n",
    "        room_id = csv_data[i][csv_header.index(\"room_id\")]\n",
    "        if price == cheapest_price:\n",
    "            cheapest_rooms.append(room_id)\n",
    "        elif price < cheapest_price:\n",
    "            cheapest_rooms.clear()\n",
    "            cheapest_rooms.append(room_id)\n",
    "            cheapest_price = price\n",
    "cheapest_rooms"
   ]
  },
  {
   "cell_type": "code",
   "execution_count": 17,
   "metadata": {},
   "outputs": [
    {
     "data": {
      "text/plain": [
       "['20333471']"
      ]
     },
     "execution_count": 17,
     "metadata": {},
     "output_type": "execute_result"
    }
   ],
   "source": [
    "#Q14: Which room ids have the cheapest price among rooms within (40.75 <= latitude <= 41.00, -73.95 <= longitude <= -73.85)\n",
    "cheapest_rooms = []\n",
    "cheapest_price = 1e99\n",
    "for i in range(len(csv_data)):\n",
    "    longitude = float(csv_data[i][csv_header.index(\"longitude\")])\n",
    "    latitude = float(csv_data[i][csv_header.index(\"latitude\")])\n",
    "    if (40.75 <= latitude <= 41) and (-73.95 <= longitude <= -73.85):\n",
    "        price = int(csv_data[i][csv_header.index(\"price\")])\n",
    "        room_id = csv_data[i][csv_header.index(\"room_id\")]\n",
    "        if price == cheapest_price:\n",
    "            cheapest_rooms.append(room_id)\n",
    "        elif price < cheapest_price:\n",
    "            cheapest_rooms.clear()\n",
    "            cheapest_rooms.append(room_id)\n",
    "            cheapest_price = price\n",
    "cheapest_rooms"
   ]
  },
  {
   "cell_type": "code",
   "execution_count": 18,
   "metadata": {},
   "outputs": [
    {
     "data": {
      "text/plain": [
       "105.51515151515152"
      ]
     },
     "execution_count": 18,
     "metadata": {},
     "output_type": "execute_result"
    }
   ],
   "source": [
    "#Q15: What is the average price of rooms that have greater than 300 reviews?\n",
    "price_sum = 0\n",
    "count = 0\n",
    "for i in range(len(csv_data)):\n",
    "    if int(csv_data[i][csv_header.index(\"number_of_reviews\")]) > 300:\n",
    "        price_sum += int(csv_data[i][csv_header.index(\"price\")])\n",
    "        count += 1\n",
    "float(price_sum / count)"
   ]
  },
  {
   "cell_type": "code",
   "execution_count": 19,
   "metadata": {},
   "outputs": [
    {
     "data": {
      "text/plain": [
       "6.410041841004184"
      ]
     },
     "execution_count": 19,
     "metadata": {},
     "output_type": "execute_result"
    }
   ],
   "source": [
    "#Q16: What is the average number of reviews of rooms that have price greater than 1000 dollars?\n",
    "review_sum = 0\n",
    "count = 0\n",
    "for i in range(len(csv_data)):\n",
    "    if int(csv_data[i][csv_header.index(\"price\")]) > 1000:\n",
    "        review_sum += int(csv_data[i][csv_header.index(\"number_of_reviews\")])\n",
    "        count += 1\n",
    "review_sum / count"
   ]
  },
  {
   "cell_type": "code",
   "execution_count": 20,
   "metadata": {},
   "outputs": [
    {
     "data": {
      "text/plain": [
       "30.569948186528496"
      ]
     },
     "execution_count": 20,
     "metadata": {},
     "output_type": "execute_result"
    }
   ],
   "source": [
    "#Q17: What percentage of rooms whose name contains the word \"sweet\" also contain the word \"home\" in its name? (case insensitive)\n",
    "both_count = 0\n",
    "sweet_count = 0\n",
    "for i in range(len(csv_data)):\n",
    "    name = csv_data[i][csv_header.index(\"name\")]\n",
    "    if \"sweet\" in name.lower():\n",
    "        sweet_count += 1\n",
    "        if \"home\" in name.lower():\n",
    "            both_count += 1\n",
    "both_count / sweet_count *100"
   ]
  },
  {
   "cell_type": "code",
   "execution_count": 21,
   "metadata": {},
   "outputs": [
    {
     "data": {
      "text/plain": [
       "48.92086330935252"
      ]
     },
     "execution_count": 21,
     "metadata": {},
     "output_type": "execute_result"
    }
   ],
   "source": [
    "#Q18: What percentage of rooms whose name contains the word \"pool\" also contain the word \"gym\" in its name? (case insensitive)\n",
    "both_count = 0\n",
    "pool_count = 0\n",
    "for i in range(len(csv_data)):\n",
    "    name = csv_data[i][csv_header.index(\"name\")]\n",
    "    if \"pool\" in name.lower():\n",
    "        pool_count += 1\n",
    "        if \"gym\" in name.lower():\n",
    "            both_count += 1\n",
    "both_count / pool_count *100"
   ]
  },
  {
   "cell_type": "code",
   "execution_count": 22,
   "metadata": {},
   "outputs": [
    {
     "data": {
      "text/plain": [
       "10.0"
      ]
     },
     "execution_count": 22,
     "metadata": {},
     "output_type": "execute_result"
    }
   ],
   "source": [
    "#Q19: What percentage of rooms whose name contains the word \"five\" also contain the word \"stars\" in its name? (case insensitive)\n",
    "both_count = 0\n",
    "five_count = 0\n",
    "for i in range(len(csv_data)):\n",
    "    name = csv_data[i][csv_header.index(\"name\")]\n",
    "    if \"five\" in name.lower():\n",
    "        five_count += 1\n",
    "        if \"stars\" in name.lower():\n",
    "            both_count += 1\n",
    "both_count / five_count *100"
   ]
  },
  {
   "cell_type": "code",
   "execution_count": 23,
   "metadata": {},
   "outputs": [
    {
     "data": {
      "text/plain": [
       "350000"
      ]
     },
     "execution_count": 23,
     "metadata": {},
     "output_type": "execute_result"
    }
   ],
   "source": [
    "#Q20: What is the total cost of staying in the most expensive room in Manhattan for the minimum number of nights and then staying in the most expensive room in Brooklyn for their minimum number of nights.\n",
    "manhattan_high_price = 0\n",
    "manhattan_idx = 0\n",
    "brooklyn_high_price = 0\n",
    "brooklyn_idx = 0\n",
    "for i in range(len(csv_data)):\n",
    "    neighborhood_group = csv_data[i][csv_header.index(\"neighborhood_group\")]\n",
    "    if neighborhood_group == \"Manhattan\":\n",
    "        if manhattan_high_price < int(csv_data[i][csv_header.index(\"price\")]):\n",
    "            manhattan_high_price = int(csv_data[i][csv_header.index(\"price\")])\n",
    "            manhattan_idx = i\n",
    "    elif neighborhood_group == \"Brooklyn\":\n",
    "        if brooklyn_high_price < int(csv_data[i][csv_header.index(\"price\")]):\n",
    "            brooklyn_high_price = int(csv_data[i][csv_header.index(\"price\")])\n",
    "            brooklyn_idx = i\n",
    "manhattan_min_nights = int(csv_data[manhattan_idx][csv_header.index(\"minimum_nights\")])\n",
    "brooklyn_min_nights = int(csv_data[brooklyn_idx][csv_header.index(\"minimum_nights\")])\n",
    "\n",
    "(manhattan_high_price * manhattan_min_nights) + (brooklyn_high_price * brooklyn_min_nights)"
   ]
  },
  {
   "cell_type": "code",
   "execution_count": null,
   "metadata": {},
   "outputs": [],
   "source": []
  }
 ],
 "metadata": {
  "kernelspec": {
   "display_name": "Python 3",
   "language": "python",
   "name": "python3"
  },
  "language_info": {
   "codemirror_mode": {
    "name": "ipython",
    "version": 3
   },
   "file_extension": ".py",
   "mimetype": "text/x-python",
   "name": "python",
   "nbconvert_exporter": "python",
   "pygments_lexer": "ipython3",
   "version": "3.8.5"
  }
 },
 "nbformat": 4,
 "nbformat_minor": 4
}
