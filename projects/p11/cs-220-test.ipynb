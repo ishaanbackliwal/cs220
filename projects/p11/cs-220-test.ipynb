{
 "cells": [
  {
   "cell_type": "code",
   "execution_count": 1,
   "metadata": {
    "execution": {
     "iopub.execute_input": "2020-11-19T01:07:47.123755Z",
     "iopub.status.busy": "2020-11-19T01:07:47.122966Z",
     "iopub.status.idle": "2020-11-19T01:07:47.125308Z",
     "shell.execute_reply": "2020-11-19T01:07:47.125904Z"
    }
   },
   "outputs": [],
   "source": [
    "# project: p11\n",
    "# submitter: backliwal@wisc.edu\n",
    "# partner: none"
   ]
  },
  {
   "cell_type": "code",
   "execution_count": 2,
   "metadata": {
    "execution": {
     "iopub.execute_input": "2020-11-19T01:07:47.130403Z",
     "iopub.status.busy": "2020-11-19T01:07:47.129583Z",
     "iopub.status.idle": "2020-11-19T01:07:47.132930Z",
     "shell.execute_reply": "2020-11-19T01:07:47.133435Z"
    }
   },
   "outputs": [],
   "source": [
    "import os\n",
    "import csv\n",
    "import json\n",
    "from collections import namedtuple"
   ]
  },
  {
   "cell_type": "code",
   "execution_count": 3,
   "metadata": {
    "execution": {
     "iopub.execute_input": "2020-11-19T01:07:47.137497Z",
     "iopub.status.busy": "2020-11-19T01:07:47.136821Z",
     "iopub.status.idle": "2020-11-19T01:07:47.140858Z",
     "shell.execute_reply": "2020-11-19T01:07:47.141300Z"
    }
   },
   "outputs": [],
   "source": [
    "# import this module if and only if your laptop is mac\n",
    "from cleanMAC import * \n",
    "# clean the .DS_Store file in MAC\n",
    "clean()"
   ]
  },
  {
   "cell_type": "code",
   "execution_count": 4,
   "metadata": {
    "execution": {
     "iopub.execute_input": "2020-11-19T01:07:47.144744Z",
     "iopub.status.busy": "2020-11-19T01:07:47.144142Z",
     "iopub.status.idle": "2020-11-19T01:07:47.145976Z",
     "shell.execute_reply": "2020-11-19T01:07:47.146399Z"
    }
   },
   "outputs": [],
   "source": [
    "# Tweeet type using namedtuple\n",
    "Tweet = namedtuple(\"Tweet\", [\"tweet_id\", \"username\", \"num_liked\", \"length\"])"
   ]
  },
  {
   "cell_type": "code",
   "execution_count": 5,
   "metadata": {
    "execution": {
     "iopub.execute_input": "2020-11-19T01:07:47.151813Z",
     "iopub.status.busy": "2020-11-19T01:07:47.151214Z",
     "iopub.status.idle": "2020-11-19T01:07:47.153039Z",
     "shell.execute_reply": "2020-11-19T01:07:47.153592Z"
    }
   },
   "outputs": [],
   "source": [
    "def get_paths(directory_path, file_types = None):\n",
    "    files = sorted(os.listdir(directory_path), reverse = True)\n",
    "    paths = []\n",
    "    temp_paths = []\n",
    "    for i in range(len(files)):\n",
    "        temp_paths.append(os.path.join(directory_path, files[i]))\n",
    "    if file_types is not None:\n",
    "        for i in range(len(temp_paths)):\n",
    "            name, extension = os.path.splitext(temp_paths[i])\n",
    "            for j in range(len(file_types)):    \n",
    "                if extension.replace(\".\",\"\") == file_types[j]:\n",
    "                    paths.append(temp_paths[i])\n",
    "    else:\n",
    "        paths = temp_paths\n",
    "    return paths"
   ]
  },
  {
   "cell_type": "code",
   "execution_count": 6,
   "metadata": {
    "execution": {
     "iopub.execute_input": "2020-11-19T01:07:47.161046Z",
     "iopub.status.busy": "2020-11-19T01:07:47.160348Z",
     "iopub.status.idle": "2020-11-19T01:07:47.162156Z",
     "shell.execute_reply": "2020-11-19T01:07:47.162575Z"
    }
   },
   "outputs": [],
   "source": [
    "def get_tweets(directory, file=None):\n",
    "    tweets = []\n",
    "    if file == None:\n",
    "        file_path = directory\n",
    "    else:\n",
    "        file_path = os.path.join(directory, file)\n",
    "    name, extension = os.path.splitext(file_path)\n",
    "    f = open(file_path, \"r\")\n",
    "    if extension == \".csv\":\n",
    "        readFile = csv.reader(f, delimiter=\",\")\n",
    "        next(readFile)\n",
    "        for row in readFile:\n",
    "            if len(row) == 6:\n",
    "                tweet_id = row[0]\n",
    "                username = row[2]\n",
    "                num_liked = int(row[3])\n",
    "                length = int(len(row[4]))\n",
    "                tweets.append(Tweet(tweet_id, username, num_liked, length))\n",
    "    elif extension == \".json\":\n",
    "        try:\n",
    "            data = json.load(f)\n",
    "        except:\n",
    "            f.close()\n",
    "            return []\n",
    "        for key in data:\n",
    "            tweet_id = key\n",
    "            username = data[key][\"username\"]\n",
    "            length = int(len(data[key][\"tweet_text\"]))\n",
    "            if data[key][\"num_liked\"] == \"unkown\" or data[key][\"num_liked\"] == \"unknown\":\n",
    "                num_liked = 0\n",
    "            else:\n",
    "                try:\n",
    "                    num_liked = int(data[key][\"num_liked\"])\n",
    "                except ValueError:\n",
    "                    num_liked = data[key][\"num_liked\"]\n",
    "            tweets.append(Tweet(tweet_id, username, num_liked, length))\n",
    "    f.close()\n",
    "    return tweets"
   ]
  },
  {
   "cell_type": "code",
   "execution_count": 7,
   "metadata": {
    "execution": {
     "iopub.execute_input": "2020-11-19T01:07:47.166403Z",
     "iopub.status.busy": "2020-11-19T01:07:47.165694Z",
     "iopub.status.idle": "2020-11-19T01:07:47.176196Z",
     "shell.execute_reply": "2020-11-19T01:07:47.176621Z"
    }
   },
   "outputs": [
    {
     "data": {
      "text/plain": [
       "445"
      ]
     },
     "execution_count": 1,
     "metadata": {},
     "output_type": "execute_result"
    }
   ],
   "source": [
    "#q1: How many tweets are present in total?\n",
    "full_data_files = sorted(os.listdir(\"full_data\"), reverse = True)\n",
    "all_tweets = []\n",
    "for i in range(len(full_data_files)):\n",
    "    all_tweets = all_tweets + (get_tweets(\"full_data\", full_data_files[i]))\n",
    "    \n",
    "len(all_tweets)"
   ]
  },
  {
   "cell_type": "code",
   "execution_count": 8,
   "metadata": {
    "execution": {
     "iopub.execute_input": "2020-11-19T01:07:47.180510Z",
     "iopub.status.busy": "2020-11-19T01:07:47.179879Z",
     "iopub.status.idle": "2020-11-19T01:07:47.182679Z",
     "shell.execute_reply": "2020-11-19T01:07:47.182247Z"
    }
   },
   "outputs": [
    {
     "data": {
      "text/plain": [
       "{'USERID_1',\n",
       " 'USERID_10',\n",
       " 'USERID_2',\n",
       " 'USERID_3',\n",
       " 'USERID_4',\n",
       " 'USERID_5',\n",
       " 'USERID_6',\n",
       " 'USERID_7',\n",
       " 'USERID_8',\n",
       " 'USERID_9'}"
      ]
     },
     "execution_count": 1,
     "metadata": {},
     "output_type": "execute_result"
    }
   ],
   "source": [
    "#q2: Which usernames appear in the dataset?\n",
    "usernames = set()\n",
    "for tweet in all_tweets:\n",
    "    usernames.add(tweet.username)\n",
    "usernames"
   ]
  },
  {
   "cell_type": "code",
   "execution_count": 9,
   "metadata": {
    "execution": {
     "iopub.execute_input": "2020-11-19T01:07:47.186619Z",
     "iopub.status.busy": "2020-11-19T01:07:47.186097Z",
     "iopub.status.idle": "2020-11-19T01:07:47.187772Z",
     "shell.execute_reply": "2020-11-19T01:07:47.188125Z"
    }
   },
   "outputs": [],
   "source": [
    "def convert_num_liked(tweet):\n",
    "    try:\n",
    "        int(tweet.num_liked)\n",
    "    except:\n",
    "        if tweet.num_liked == \"unkown\" or tweet.num_liked == \"unknown\":\n",
    "            return 0\n",
    "        elif \"k\" in tweet.num_liked:\n",
    "            return int(tweet.num_liked.replace(\"k\", \"000\"))\n",
    "        elif \"M\" in tweet.num_liked:\n",
    "            return int(tweet.num_liked.replace(\"M\", \"000000\"))\n",
    "    return int(tweet.num_liked)"
   ]
  },
  {
   "cell_type": "code",
   "execution_count": 10,
   "metadata": {
    "execution": {
     "iopub.execute_input": "2020-11-19T01:07:47.192129Z",
     "iopub.status.busy": "2020-11-19T01:07:47.191564Z",
     "iopub.status.idle": "2020-11-19T01:07:47.193359Z",
     "shell.execute_reply": "2020-11-19T01:07:47.193712Z"
    }
   },
   "outputs": [],
   "source": [
    "def get_num_tweets_per_user(outliers=None):\n",
    "    num_tweets_per_user = {}\n",
    "    for tweet in all_tweets:\n",
    "        condition = 0\n",
    "        likes = convert_num_liked(tweet)\n",
    "        if outliers != None:\n",
    "            for i in range(len(outliers)): \n",
    "                if outliers[i] == likes:\n",
    "                    condition = 1\n",
    "        if condition != 1:\n",
    "            if tweet.username not in num_tweets_per_user:\n",
    "                num_tweets_per_user[tweet.username] = 1\n",
    "            else:\n",
    "                num_tweets_per_user[tweet.username] += 1\n",
    "    return num_tweets_per_user"
   ]
  },
  {
   "cell_type": "code",
   "execution_count": 11,
   "metadata": {
    "execution": {
     "iopub.execute_input": "2020-11-19T01:07:47.197144Z",
     "iopub.status.busy": "2020-11-19T01:07:47.196564Z",
     "iopub.status.idle": "2020-11-19T01:07:47.198713Z",
     "shell.execute_reply": "2020-11-19T01:07:47.199154Z"
    }
   },
   "outputs": [
    {
     "data": {
      "text/plain": [
       "{'USERID_1': 52,\n",
       " 'USERID_7': 55,\n",
       " 'USERID_10': 45,\n",
       " 'USERID_9': 44,\n",
       " 'USERID_4': 35,\n",
       " 'USERID_6': 51,\n",
       " 'USERID_3': 39,\n",
       " 'USERID_2': 47,\n",
       " 'USERID_5': 46,\n",
       " 'USERID_8': 31}"
      ]
     },
     "execution_count": 1,
     "metadata": {},
     "output_type": "execute_result"
    }
   ],
   "source": [
    "#q3: How prolific is each user?\n",
    "user_tweet_num = get_num_tweets_per_user()\n",
    "user_tweet_num"
   ]
  },
  {
   "cell_type": "code",
   "execution_count": 12,
   "metadata": {
    "execution": {
     "iopub.execute_input": "2020-11-19T01:07:47.202999Z",
     "iopub.status.busy": "2020-11-19T01:07:47.202482Z",
     "iopub.status.idle": "2020-11-19T01:07:47.204339Z",
     "shell.execute_reply": "2020-11-19T01:07:47.203960Z"
    }
   },
   "outputs": [],
   "source": [
    "def get_most_liked_per_user(outliers=None):\n",
    "    most_liked_per_user = {}\n",
    "    for tweet in all_tweets:\n",
    "        condition = 0\n",
    "        likes = convert_num_liked(tweet)\n",
    "        if outliers != None:\n",
    "            for i in range(len(outliers)): \n",
    "                if outliers[i] == likes:\n",
    "                    condition = 1\n",
    "        if condition != 1:\n",
    "            if tweet.username not in most_liked_per_user:\n",
    "                most_liked_per_user[tweet.username] = likes\n",
    "            else:\n",
    "                if most_liked_per_user[tweet.username] < likes:\n",
    "                    most_liked_per_user[tweet.username] = likes\n",
    "    return most_liked_per_user"
   ]
  },
  {
   "cell_type": "code",
   "execution_count": 13,
   "metadata": {
    "execution": {
     "iopub.execute_input": "2020-11-19T01:07:47.207683Z",
     "iopub.status.busy": "2020-11-19T01:07:47.207100Z",
     "iopub.status.idle": "2020-11-19T01:07:47.209151Z",
     "shell.execute_reply": "2020-11-19T01:07:47.209569Z"
    }
   },
   "outputs": [
    {
     "data": {
      "text/plain": [
       "{'USERID_1': 9393,\n",
       " 'USERID_7': 9851,\n",
       " 'USERID_10': 9936,\n",
       " 'USERID_9': 9728,\n",
       " 'USERID_4': 9618,\n",
       " 'USERID_6': 9149,\n",
       " 'USERID_3': 9678,\n",
       " 'USERID_2': 869000000,\n",
       " 'USERID_5': 9608,\n",
       " 'USERID_8': 915000}"
      ]
     },
     "execution_count": 1,
     "metadata": {},
     "output_type": "execute_result"
    }
   ],
   "source": [
    "#q4: What is the largest number of likes received on a tweet for each user?\n",
    "most_likes = get_most_liked_per_user()\n",
    "most_likes"
   ]
  },
  {
   "cell_type": "code",
   "execution_count": 14,
   "metadata": {
    "execution": {
     "iopub.execute_input": "2020-11-19T01:07:47.213764Z",
     "iopub.status.busy": "2020-11-19T01:07:47.213181Z",
     "iopub.status.idle": "2020-11-19T01:07:47.215330Z",
     "shell.execute_reply": "2020-11-19T01:07:47.215678Z"
    }
   },
   "outputs": [
    {
     "data": {
      "text/plain": [
       "{'USERID_1': 150,\n",
       " 'USERID_7': 144,\n",
       " 'USERID_10': 136,\n",
       " 'USERID_9': 137,\n",
       " 'USERID_4': 138,\n",
       " 'USERID_6': 145,\n",
       " 'USERID_3': 138,\n",
       " 'USERID_2': 138,\n",
       " 'USERID_5': 146,\n",
       " 'USERID_8': 145}"
      ]
     },
     "execution_count": 1,
     "metadata": {},
     "output_type": "execute_result"
    }
   ],
   "source": [
    "#q5: What is the length of the longest tweet for each user?\n",
    "longest_tweet = {}\n",
    "for tweet in all_tweets:\n",
    "    if tweet.username not in longest_tweet:\n",
    "        longest_tweet[tweet.username] = tweet.length\n",
    "    else:\n",
    "        if longest_tweet[tweet.username] < tweet.length:\n",
    "            longest_tweet[tweet.username] = tweet.length\n",
    "longest_tweet"
   ]
  },
  {
   "cell_type": "code",
   "execution_count": 15,
   "metadata": {
    "execution": {
     "iopub.execute_input": "2020-11-19T01:07:47.219515Z",
     "iopub.status.busy": "2020-11-19T01:07:47.218926Z",
     "iopub.status.idle": "2020-11-19T01:07:47.432090Z",
     "shell.execute_reply": "2020-11-19T01:07:47.432489Z"
    }
   },
   "outputs": [],
   "source": [
    "import pandas as pd\n",
    "\n",
    "def scatter(x, y, xlabel=\"please label me!\", ylabel=\"please label me!\"):\n",
    "    df = pd.DataFrame({\"x\":x, \"y\":y})\n",
    "    ax = df.plot.scatter(x=\"x\", y=\"y\", color=\"black\", fontsize=16, xlim=0, ylim=0)\n",
    "    ax.set_xlabel(xlabel, fontsize=16)\n",
    "    ax.set_ylabel(ylabel, fontsize=16)\n",
    "    ax.get_xaxis().get_major_formatter().set_scientific(False)\n",
    "    ax.get_yaxis().get_major_formatter().set_scientific(False)"
   ]
  },
  {
   "cell_type": "code",
   "execution_count": 16,
   "metadata": {
    "execution": {
     "iopub.execute_input": "2020-11-19T01:07:47.436295Z",
     "iopub.status.busy": "2020-11-19T01:07:47.435771Z",
     "iopub.status.idle": "2020-11-19T01:07:47.743765Z",
     "shell.execute_reply": "2020-11-19T01:07:47.744116Z"
    }
   },
   "outputs": [
    {
     "data": {
      "image/png": "[encoded data removed]",
      "text/plain": [
       "<Figure size 432x288 with 1 Axes>"
      ]
     },
     "metadata": {
      "needs_background": "light"
     },
     "output_type": "display_data"
    }
   ],
   "source": [
    "#q6: What is the relationship between the number of tweets by a user and the length of their longest tweet?\n",
    "scatter(user_tweet_num, longest_tweet, xlabel=\"Number of tweets\", ylabel=\"Longest length\")"
   ]
  },
  {
   "cell_type": "code",
   "execution_count": 17,
   "metadata": {
    "execution": {
     "iopub.execute_input": "2020-11-19T01:07:47.781732Z",
     "iopub.status.busy": "2020-11-19T01:07:47.781226Z",
     "iopub.status.idle": "2020-11-19T01:07:47.857553Z",
     "shell.execute_reply": "2020-11-19T01:07:47.857911Z"
    }
   },
   "outputs": [
    {
     "data": {
      "image/png": "[encoded data removed]",
      "text/plain": [
       "<Figure size 432x288 with 1 Axes>"
      ]
     },
     "metadata": {
      "needs_background": "light"
     },
     "output_type": "display_data"
    }
   ],
   "source": [
    "#q7: What is the relationship between the number of tweets and the largest number of likes?\n",
    "scatter(user_tweet_num, most_likes, xlabel=\"Number of tweets\", ylabel=\"Largest likes\")"
   ]
  },
  {
   "cell_type": "code",
   "execution_count": 18,
   "metadata": {
    "execution": {
     "iopub.execute_input": "2020-11-19T01:07:47.892484Z",
     "iopub.status.busy": "2020-11-19T01:07:47.891978Z",
     "iopub.status.idle": "2020-11-19T01:07:47.974996Z",
     "shell.execute_reply": "2020-11-19T01:07:47.975352Z"
    }
   },
   "outputs": [
    {
     "data": {
      "image/png": "[encoded data removed]",
      "text/plain": [
       "<Figure size 432x288 with 1 Axes>"
      ]
     },
     "metadata": {
      "needs_background": "light"
     },
     "output_type": "display_data"
    }
   ],
   "source": [
    "#q8: What is the relationship between the length of their longest tweet and the largest number of likes?\n",
    "scatter(longest_tweet, most_likes, xlabel=\"Longest length\", ylabel=\"Largest likes\")"
   ]
  },
  {
   "cell_type": "code",
   "execution_count": 19,
   "metadata": {
    "execution": {
     "iopub.execute_input": "2020-11-19T01:07:47.979185Z",
     "iopub.status.busy": "2020-11-19T01:07:47.978417Z",
     "iopub.status.idle": "2020-11-19T01:07:47.980876Z",
     "shell.execute_reply": "2020-11-19T01:07:47.981183Z"
    }
   },
   "outputs": [
    {
     "data": {
      "text/plain": [
       "'USERID_2'"
      ]
     },
     "execution_count": 1,
     "metadata": {},
     "output_type": "execute_result"
    }
   ],
   "source": [
    "#q9: What is the username of the user represented by the outlier in the last two plots?\n",
    "max_likes = 0\n",
    "max_likes_user = \"\"\n",
    "for key in most_likes:\n",
    "    if most_likes[key] > max_likes:\n",
    "        max_likes_user = key\n",
    "        max_likes = most_likes[key]\n",
    "max_likes_user"
   ]
  },
  {
   "cell_type": "code",
   "execution_count": 20,
   "metadata": {
    "execution": {
     "iopub.execute_input": "2020-11-19T01:07:47.985436Z",
     "iopub.status.busy": "2020-11-19T01:07:47.984759Z",
     "iopub.status.idle": "2020-11-19T01:07:47.987155Z",
     "shell.execute_reply": "2020-11-19T01:07:47.987560Z"
    }
   },
   "outputs": [
    {
     "data": {
      "text/plain": [
       "[Tweet(tweet_id='1467894593', username='USERID_2', num_liked='869M', length=136),\n",
       " Tweet(tweet_id='1467875163', username='USERID_2', num_liked=9891, length=69),\n",
       " Tweet(tweet_id='1467862806', username='USERID_2', num_liked=9465, length=68),\n",
       " Tweet(tweet_id='1467907751', username='USERID_2', num_liked=9048, length=110),\n",
       " Tweet(tweet_id='1467928764', username='USERID_2', num_liked=9026, length=41),\n",
       " Tweet(tweet_id='1467943007', username='USERID_2', num_liked=9000, length=130),\n",
       " Tweet(tweet_id='1467918682', username='USERID_2', num_liked=8884, length=102),\n",
       " Tweet(tweet_id='1467935121', username='USERID_2', num_liked=8740, length=37),\n",
       " Tweet(tweet_id='1467947913', username='USERID_2', num_liked=8578, length=36),\n",
       " Tweet(tweet_id='1467892667', username='USERID_2', num_liked=8270, length=20),\n",
       " Tweet(tweet_id='1467897316', username='USERID_2', num_liked=7890, length=64),\n",
       " Tweet(tweet_id='1467854917', username='USERID_2', num_liked=7741, length=30),\n",
       " Tweet(tweet_id='1467961106', username='USERID_2', num_liked=7552, length=65),\n",
       " Tweet(tweet_id='1467951252', username='USERID_2', num_liked=7515, length=48),\n",
       " Tweet(tweet_id='1467889988', username='USERID_2', num_liked=7394, length=51),\n",
       " Tweet(tweet_id='1467916959', username='USERID_2', num_liked=7081, length=69),\n",
       " Tweet(tweet_id='1467874916', username='USERID_2', num_liked=6935, length=23),\n",
       " Tweet(tweet_id='1467855981', username='USERID_2', num_liked=6455, length=92),\n",
       " Tweet(tweet_id='1467872247', username='USERID_2', num_liked=6316, length=137),\n",
       " Tweet(tweet_id='1467918850', username='USERID_2', num_liked=5383, length=103),\n",
       " Tweet(tweet_id='1467919055', username='USERID_2', num_liked=5370, length=68),\n",
       " Tweet(tweet_id='1467915670', username='USERID_2', num_liked=5287, length=138),\n",
       " Tweet(tweet_id='1467880442', username='USERID_2', num_liked=5125, length=96),\n",
       " Tweet(tweet_id='1467896253', username='USERID_2', num_liked=4906, length=91),\n",
       " Tweet(tweet_id='1467962897', username='USERID_2', num_liked=4898, length=98),\n",
       " Tweet(tweet_id='1467855812', username='USERID_2', num_liked=4806, length=28),\n",
       " Tweet(tweet_id='1467930220', username='USERID_2', num_liked=4770, length=94),\n",
       " Tweet(tweet_id='1467852031', username='USERID_2', num_liked=4565, length=63),\n",
       " Tweet(tweet_id='1467905378', username='USERID_2', num_liked=4420, length=111),\n",
       " Tweet(tweet_id='1467877833', username='USERID_2', num_liked=4270, length=89),\n",
       " Tweet(tweet_id='1467870866', username='USERID_2', num_liked=4166, length=82),\n",
       " Tweet(tweet_id='1467879984', username='USERID_2', num_liked=3694, length=69),\n",
       " Tweet(tweet_id='1467898511', username='USERID_2', num_liked=3477, length=99),\n",
       " Tweet(tweet_id='1467926632', username='USERID_2', num_liked=2602, length=98),\n",
       " Tweet(tweet_id='1467862213', username='USERID_2', num_liked=2455, length=138),\n",
       " Tweet(tweet_id='1467878633', username='USERID_2', num_liked=2351, length=33),\n",
       " Tweet(tweet_id='1467878971', username='USERID_2', num_liked=2238, length=27),\n",
       " Tweet(tweet_id='1467953090', username='USERID_2', num_liked=1896, length=64),\n",
       " Tweet(tweet_id='1467908798', username='USERID_2', num_liked=1659, length=51),\n",
       " Tweet(tweet_id='1467918015', username='USERID_2', num_liked=1508, length=97),\n",
       " Tweet(tweet_id='1467926444', username='USERID_2', num_liked=1394, length=61),\n",
       " Tweet(tweet_id='1467914499', username='USERID_2', num_liked=910, length=138),\n",
       " Tweet(tweet_id='1467968584', username='USERID_2', num_liked=777, length=132),\n",
       " Tweet(tweet_id='1467933102', username='USERID_2', num_liked=625, length=135),\n",
       " Tweet(tweet_id='1467953277', username='USERID_2', num_liked=494, length=31),\n",
       " Tweet(tweet_id='1467890222', username='USERID_2', num_liked=227, length=107),\n",
       " Tweet(tweet_id='1467871956', username='USERID_2', num_liked=110, length=68)]"
      ]
     },
     "execution_count": 1,
     "metadata": {},
     "output_type": "execute_result"
    }
   ],
   "source": [
    "#q10: What are the tweets made by that outlier user?\n",
    "max_likes_user_tweets = []\n",
    "for tweet in all_tweets:\n",
    "    if max_likes_user == tweet.username:\n",
    "        max_likes_user_tweets.append(tweet)\n",
    "\n",
    "max_likes_user_tweets.sort(key = convert_num_liked, reverse = True)\n",
    "max_likes_user_tweets"
   ]
  },
  {
   "cell_type": "code",
   "execution_count": 21,
   "metadata": {
    "execution": {
     "iopub.execute_input": "2020-11-19T01:07:47.991169Z",
     "iopub.status.busy": "2020-11-19T01:07:47.990540Z",
     "iopub.status.idle": "2020-11-19T01:07:47.992839Z",
     "shell.execute_reply": "2020-11-19T01:07:47.993188Z"
    }
   },
   "outputs": [
    {
     "data": {
      "text/plain": [
       "5003.565217391304"
      ]
     },
     "execution_count": 1,
     "metadata": {},
     "output_type": "execute_result"
    }
   ],
   "source": [
    "#q11: If we exclude that most-liked tweet, what is the average of the remaining number of likes for that user?\n",
    "total = 0\n",
    "count = 0\n",
    "for tweet in max_likes_user_tweets:\n",
    "    likes = convert_num_liked(tweet)\n",
    "    if likes == max_likes:\n",
    "        pass\n",
    "    else:\n",
    "        total += likes\n",
    "        count += 1\n",
    "float(total / count)"
   ]
  },
  {
   "cell_type": "code",
   "execution_count": 22,
   "metadata": {
    "execution": {
     "iopub.execute_input": "2020-11-19T01:07:48.027473Z",
     "iopub.status.busy": "2020-11-19T01:07:48.026795Z",
     "iopub.status.idle": "2020-11-19T01:07:48.099961Z",
     "shell.execute_reply": "2020-11-19T01:07:48.100309Z"
    }
   },
   "outputs": [
    {
     "data": {
      "image/png": "[encoded data removed]",
      "text/plain": [
       "<Figure size 432x288 with 1 Axes>"
      ]
     },
     "metadata": {
      "needs_background": "light"
     },
     "output_type": "display_data"
    }
   ],
   "source": [
    "#q12: If we exclude that most-liked tweet, what is the relationship between the number of tweets and the largest number of likes?\n",
    "num_tweets_exlude_outlier = get_num_tweets_per_user([max_likes])\n",
    "most_liked_exlude_outlier = get_most_liked_per_user([max_likes])\n",
    "scatter(num_tweets_exlude_outlier, most_liked_exlude_outlier, xlabel=\"Number of tweets\", ylabel=\"Largest likes\")\n"
   ]
  },
  {
   "cell_type": "code",
   "execution_count": 23,
   "metadata": {
    "execution": {
     "iopub.execute_input": "2020-11-19T01:07:48.133594Z",
     "iopub.status.busy": "2020-11-19T01:07:48.133086Z",
     "iopub.status.idle": "2020-11-19T01:07:48.205486Z",
     "shell.execute_reply": "2020-11-19T01:07:48.206000Z"
    }
   },
   "outputs": [
    {
     "data": {
      "image/png": "[encoded data removed]",
      "text/plain": [
       "<Figure size 432x288 with 1 Axes>"
      ]
     },
     "metadata": {
      "needs_background": "light"
     },
     "output_type": "display_data"
    }
   ],
   "source": [
    "#q13: If we exclude the 2 most-liked tweets, what is the relationship between the number of tweets and the largest number of likes?\n",
    "second_max_likes = 0\n",
    "for key in most_liked_exlude_outlier:\n",
    "    if most_liked_exlude_outlier[key] > second_max_likes:\n",
    "        second_max_likes = most_liked_exlude_outlier[key]\n",
    "\n",
    "num_tweets_exlude_two_outliers = get_num_tweets_per_user([max_likes, second_max_likes])\n",
    "most_liked_exlude_two_outlier = get_most_liked_per_user([max_likes, second_max_likes])\n",
    "scatter(num_tweets_exlude_two_outliers, most_liked_exlude_two_outlier, xlabel=\"Number of tweets\", ylabel=\"Largest likes\")\n"
   ]
  },
  {
   "cell_type": "code",
   "execution_count": 24,
   "metadata": {
    "execution": {
     "iopub.execute_input": "2020-11-19T01:07:48.210610Z",
     "iopub.status.busy": "2020-11-19T01:07:48.209950Z",
     "iopub.status.idle": "2020-11-19T01:07:48.211622Z",
     "shell.execute_reply": "2020-11-19T01:07:48.211971Z"
    }
   },
   "outputs": [],
   "source": [
    "def get_all_paths(path):\n",
    "    files = os.listdir(path)\n",
    "    paths = []\n",
    "    for i in range(len(files)):\n",
    "        if files[i].startswith(\".\"):\n",
    "            pass \n",
    "        else:\n",
    "            file = os.path.join(path, files[i])\n",
    "            if os.path.isdir(file):\n",
    "                paths += get_all_paths(file)\n",
    "            elif os.path.isfile(file):\n",
    "                paths.append(file)\n",
    "    return sorted(paths, reverse=True)"
   ]
  },
  {
   "cell_type": "code",
   "execution_count": 25,
   "metadata": {
    "execution": {
     "iopub.execute_input": "2020-11-19T01:07:48.215110Z",
     "iopub.status.busy": "2020-11-19T01:07:48.214572Z",
     "iopub.status.idle": "2020-11-19T01:07:48.217297Z",
     "shell.execute_reply": "2020-11-19T01:07:48.217640Z"
    }
   },
   "outputs": [
    {
     "data": {
      "text/plain": [
       "[]"
      ]
     },
     "execution_count": 1,
     "metadata": {},
     "output_type": "execute_result"
    }
   ],
   "source": [
    "#q14: What are the files in the rb8 directory of the rb directory of the play directory?\n",
    "get_all_paths(os.path.join(\"play\", \"rb\", \"rb8\"))"
   ]
  },
  {
   "cell_type": "code",
   "execution_count": 26,
   "metadata": {
    "execution": {
     "iopub.execute_input": "2020-11-19T01:07:48.220303Z",
     "iopub.status.busy": "2020-11-19T01:07:48.219770Z",
     "iopub.status.idle": "2020-11-19T01:07:48.222831Z",
     "shell.execute_reply": "2020-11-19T01:07:48.223244Z"
    }
   },
   "outputs": [
    {
     "data": {
      "text/plain": [
       "['play/ou/v',\n",
       " 'play/ou/quap/uikwe',\n",
       " 'play/ou/quap/qonxu.txt',\n",
       " 'play/ou/quap/aoq/qsonj',\n",
       " 'play/ou/quap/aoq/aqnsa',\n",
       " 'play/ou/b',\n",
       " 'play/ou/a']"
      ]
     },
     "execution_count": 1,
     "metadata": {},
     "output_type": "execute_result"
    }
   ],
   "source": [
    "#q15: What are the files in the ou directory of the play directory?\n",
    "get_all_paths(os.path.join(\"play\", \"ou\"))"
   ]
  },
  {
   "cell_type": "code",
   "execution_count": 27,
   "metadata": {
    "execution": {
     "iopub.execute_input": "2020-11-19T01:07:48.226099Z",
     "iopub.status.busy": "2020-11-19T01:07:48.225602Z",
     "iopub.status.idle": "2020-11-19T01:07:48.228920Z",
     "shell.execute_reply": "2020-11-19T01:07:48.229330Z"
    },
    "scrolled": true
   },
   "outputs": [
    {
     "data": {
      "text/plain": [
       "['play/rb/rb9/89.csv',\n",
       " 'play/rb/rb9/12.xls',\n",
       " 'play/rb/ppt.ppt',\n",
       " 'play/ou/v',\n",
       " 'play/ou/quap/uikwe',\n",
       " 'play/ou/quap/qonxu.txt',\n",
       " 'play/ou/quap/aoq/qsonj',\n",
       " 'play/ou/quap/aoq/aqnsa',\n",
       " 'play/ou/b',\n",
       " 'play/ou/a',\n",
       " 'play/ls/qwe/usun.pdf',\n",
       " 'play/ls/qwe/iuqwe.json',\n",
       " 'play/ls/mf.py',\n",
       " 'play/ls/lu.txt']"
      ]
     },
     "execution_count": 1,
     "metadata": {},
     "output_type": "execute_result"
    }
   ],
   "source": [
    "#q16: What are the files in the play directory?\n",
    "get_all_paths(\"play\")"
   ]
  },
  {
   "cell_type": "code",
   "execution_count": 28,
   "metadata": {
    "execution": {
     "iopub.execute_input": "2020-11-19T01:07:48.232555Z",
     "iopub.status.busy": "2020-11-19T01:07:48.231956Z",
     "iopub.status.idle": "2020-11-19T01:07:48.234921Z",
     "shell.execute_reply": "2020-11-19T01:07:48.235281Z"
    }
   },
   "outputs": [
    {
     "data": {
      "text/plain": [
       "['recursive/others/USERID_9.json',\n",
       " 'recursive/others/USERID_8.json',\n",
       " 'recursive/others/USERID_7.json',\n",
       " 'recursive/others/USERID_6.json',\n",
       " 'recursive/others/USERID_5.json',\n",
       " 'recursive/others/USERID_10.json']"
      ]
     },
     "execution_count": 1,
     "metadata": {},
     "output_type": "execute_result"
    }
   ],
   "source": [
    "#q17: What are the files in the others directory of the recursive directory?\n",
    "get_all_paths(os.path.join(\"recursive\", \"others\"))"
   ]
  },
  {
   "cell_type": "code",
   "execution_count": 29,
   "metadata": {
    "execution": {
     "iopub.execute_input": "2020-11-19T01:07:48.237914Z",
     "iopub.status.busy": "2020-11-19T01:07:48.237403Z",
     "iopub.status.idle": "2020-11-19T01:07:48.240469Z",
     "shell.execute_reply": "2020-11-19T01:07:48.240816Z"
    }
   },
   "outputs": [
    {
     "data": {
      "text/plain": [
       "['recursive/others/USERID_9.json',\n",
       " 'recursive/others/USERID_8.json',\n",
       " 'recursive/others/USERID_7.json',\n",
       " 'recursive/others/USERID_6.json',\n",
       " 'recursive/others/USERID_5.json',\n",
       " 'recursive/others/USERID_10.json',\n",
       " 'recursive/USERID_4/true/tweets.json',\n",
       " 'recursive/USERID_4/false/tweets.json',\n",
       " 'recursive/USERID_3/tweets.json',\n",
       " 'recursive/USERID_2/tweets.json',\n",
       " 'recursive/USERID_1/tweets.json']"
      ]
     },
     "execution_count": 1,
     "metadata": {},
     "output_type": "execute_result"
    }
   ],
   "source": [
    "#q18: What are the files in the recursive directory?\n",
    "get_all_paths(\"recursive\")"
   ]
  },
  {
   "cell_type": "code",
   "execution_count": 30,
   "metadata": {
    "execution": {
     "iopub.execute_input": "2020-11-19T01:07:48.243801Z",
     "iopub.status.busy": "2020-11-19T01:07:48.243281Z",
     "iopub.status.idle": "2020-11-19T01:07:48.246504Z",
     "shell.execute_reply": "2020-11-19T01:07:48.246849Z"
    }
   },
   "outputs": [
    {
     "data": {
      "text/plain": [
       "17"
      ]
     },
     "execution_count": 1,
     "metadata": {},
     "output_type": "execute_result"
    }
   ],
   "source": [
    "#q19: How many tweets are in the files in the USERID_4 directory of the recursive directory?\n",
    "userid4_files = get_all_paths(os.path.join(\"recursive\", \"USERID_4\"))\n",
    "userid4_tweets = []\n",
    "for i in range(len(userid4_files)):\n",
    "    userid4_tweets += (get_tweets(userid4_files[i]))\n",
    "len(userid4_tweets)"
   ]
  },
  {
   "cell_type": "code",
   "execution_count": 31,
   "metadata": {
    "execution": {
     "iopub.execute_input": "2020-11-19T01:07:48.250072Z",
     "iopub.status.busy": "2020-11-19T01:07:48.249351Z",
     "iopub.status.idle": "2020-11-19T01:07:48.253629Z",
     "shell.execute_reply": "2020-11-19T01:07:48.253939Z"
    }
   },
   "outputs": [
    {
     "data": {
      "text/plain": [
       "200"
      ]
     },
     "execution_count": 1,
     "metadata": {},
     "output_type": "execute_result"
    }
   ],
   "source": [
    "#q20: How many tweets are in the files in the recursive directory?\n",
    "recursive_files = get_all_paths(\"recursive\")\n",
    "recursive_tweets = []\n",
    "for i in range(len(recursive_files)):\n",
    "    recursive_tweets += get_tweets(recursive_files[i])\n",
    "len(recursive_tweets)"
   ]
  },
  {
   "cell_type": "code",
   "execution_count": null,
   "metadata": {},
   "outputs": [],
   "source": []
  }
 ],
 "metadata": {
  "kernelspec": {
   "display_name": "Python 3",
   "language": "python",
   "name": "python3"
  },
  "language_info": {
   "codemirror_mode": {
    "name": "ipython",
    "version": 3
   },
   "file_extension": ".py",
   "mimetype": "text/x-python",
   "name": "python",
   "nbconvert_exporter": "python",
   "pygments_lexer": "ipython3",
   "version": "3.9.0"
  }
 },
 "nbformat": 4,
 "nbformat_minor": 4
}
