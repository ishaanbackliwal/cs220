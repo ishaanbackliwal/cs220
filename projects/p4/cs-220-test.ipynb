{
 "cells": [
  {
   "cell_type": "code",
   "execution_count": 1,
   "metadata": {},
   "outputs": [],
   "source": [
    "import project\n",
    "import math"
   ]
  },
  {
   "cell_type": "code",
   "execution_count": 2,
   "metadata": {},
   "outputs": [],
   "source": [
    "# Returns sum of attack stats\n",
    "def get_total_attack(pkmn):\n",
    "    return (project.get_attack(pkmn) + project.get_sp_atk(pkmn))\n",
    "\n",
    "# Returns sum of all stats(HP,Attack,Defense,Sp. Atk,Sp. Def, Speed)\n",
    "def get_stat_total(pkmn):\n",
    "    return get_total_attack(pkmn) + project.get_hp(pkmn) + project.get_defense(pkmn) + project.get_sp_def(pkmn) + project.get_speed(pkmn)\n",
    "\n",
    "# Returns the name of the Pokemon with the highest stat total\n",
    "def simple_battle(pkmn1, pkmn2):\n",
    "    if (abs(get_stat_total(pkmn1) - get_stat_total(pkmn2)) > 300):\n",
    "        if(get_stat_total(pkmn1) > get_stat_total(pkmn2)):\n",
    "            return pkmn2 + \" ran away\"\n",
    "        else:\n",
    "            return pkmn1 + \" ran away\"\n",
    "    elif get_stat_total(pkmn1) == get_stat_total(pkmn2):\n",
    "        return 'Draw'\n",
    "    elif get_stat_total(pkmn1) > get_stat_total(pkmn2):\n",
    "        return pkmn1\n",
    "    else:\n",
    "        return pkmn2"
   ]
  },
  {
   "cell_type": "code",
   "execution_count": 3,
   "metadata": {},
   "outputs": [
    {
     "data": {
      "text/plain": [
       "'Snorunt'"
      ]
     },
     "execution_count": 3,
     "metadata": {},
     "output_type": "execute_result"
    }
   ],
   "source": [
    "#Q1: What is the output of simple_battle('Snorunt', 'Starly')\n",
    "simple_battle('Snorunt', 'Starly')"
   ]
  },
  {
   "cell_type": "code",
   "execution_count": 4,
   "metadata": {},
   "outputs": [
    {
     "data": {
      "text/plain": [
       "'Staravia'"
      ]
     },
     "execution_count": 4,
     "metadata": {},
     "output_type": "execute_result"
    }
   ],
   "source": [
    "#Q2: What is the output of simple_battle('Snorunt', 'Staravia')?\n",
    "simple_battle('Snorunt', 'Staravia')"
   ]
  },
  {
   "cell_type": "code",
   "execution_count": 5,
   "metadata": {},
   "outputs": [
    {
     "data": {
      "text/plain": [
       "'Draw'"
      ]
     },
     "execution_count": 5,
     "metadata": {},
     "output_type": "execute_result"
    }
   ],
   "source": [
    "#Q3: What is the output of simple_battle('Chikorita', 'Turtwig')?\n",
    "simple_battle('Chikorita', 'Turtwig')"
   ]
  },
  {
   "cell_type": "code",
   "execution_count": 6,
   "metadata": {},
   "outputs": [
    {
     "data": {
      "text/plain": [
       "'Caterpie ran away'"
      ]
     },
     "execution_count": 6,
     "metadata": {},
     "output_type": "execute_result"
    }
   ],
   "source": [
    "#Q4: What is the output of simple_battle('Caterpie', 'Melmetal')?\n",
    "simple_battle('Caterpie', 'Melmetal')"
   ]
  },
  {
   "cell_type": "code",
   "execution_count": 7,
   "metadata": {},
   "outputs": [
    {
     "data": {
      "text/plain": [
       "'Dragonite'"
      ]
     },
     "execution_count": 7,
     "metadata": {},
     "output_type": "execute_result"
    }
   ],
   "source": [
    "#Q5: What is the output of simple_battle('Dragonite', 'Snorunt')?\n",
    "simple_battle('Dragonite', 'Snorunt')"
   ]
  },
  {
   "cell_type": "code",
   "execution_count": 8,
   "metadata": {},
   "outputs": [],
   "source": [
    "# Returns the damage done by the attacker to the defender\n",
    "def most_damage(attacker, defender):\n",
    "    physical_damage = 10 * project.get_attack(attacker)/project.get_defense(defender)\n",
    "    special_damage = 10 * project.get_sp_atk(attacker)/project.get_sp_def(defender)\n",
    "    if physical_damage > special_damage:\n",
    "        return physical_damage\n",
    "    else:\n",
    "        return special_damage"
   ]
  },
  {
   "cell_type": "code",
   "execution_count": 9,
   "metadata": {},
   "outputs": [
    {
     "data": {
      "text/plain": [
       "33.5"
      ]
     },
     "execution_count": 9,
     "metadata": {},
     "output_type": "execute_result"
    }
   ],
   "source": [
    "#Q6: How much damage does Dragonite do to Rockruff?\n",
    "most_damage('Dragonite', 'Rockruff')"
   ]
  },
  {
   "cell_type": "code",
   "execution_count": 10,
   "metadata": {},
   "outputs": [
    {
     "data": {
      "text/plain": [
       "14.222222222222221"
      ]
     },
     "execution_count": 10,
     "metadata": {},
     "output_type": "execute_result"
    }
   ],
   "source": [
    "#Q7: How much damage does Quilava do to Grovyle?\n",
    "most_damage('Quilava', 'Grovyle')"
   ]
  },
  {
   "cell_type": "code",
   "execution_count": 11,
   "metadata": {},
   "outputs": [
    {
     "data": {
      "text/plain": [
       "12.5"
      ]
     },
     "execution_count": 11,
     "metadata": {},
     "output_type": "execute_result"
    }
   ],
   "source": [
    "#Q8: How much damage does Goomy do to Beedrill?\n",
    "most_damage('Goomy', 'Beedrill')"
   ]
  },
  {
   "cell_type": "code",
   "execution_count": 12,
   "metadata": {},
   "outputs": [
    {
     "data": {
      "text/plain": [
       "8.076923076923077"
      ]
     },
     "execution_count": 12,
     "metadata": {},
     "output_type": "execute_result"
    }
   ],
   "source": [
    "#Q9: How much damage does Tepig do to Charizard?\n",
    "most_damage('Tepig', 'Charizard')"
   ]
  },
  {
   "cell_type": "code",
   "execution_count": 13,
   "metadata": {},
   "outputs": [],
   "source": [
    "# Returns how many hits a Pokemon can take before fainting\n",
    "def num_hits(attacker, defender):\n",
    "    return math.ceil(project.get_hp(defender)/most_damage(attacker, defender))"
   ]
  },
  {
   "cell_type": "code",
   "execution_count": 14,
   "metadata": {},
   "outputs": [
    {
     "data": {
      "text/plain": [
       "3"
      ]
     },
     "execution_count": 14,
     "metadata": {},
     "output_type": "execute_result"
    }
   ],
   "source": [
    "#Q10: How many hits can Goomy take from Gible?\n",
    "num_hits('Gible', 'Goomy')"
   ]
  },
  {
   "cell_type": "code",
   "execution_count": 15,
   "metadata": {},
   "outputs": [
    {
     "data": {
      "text/plain": [
       "14"
      ]
     },
     "execution_count": 15,
     "metadata": {},
     "output_type": "execute_result"
    }
   ],
   "source": [
    "#Q11: How many hits can Donphan take from Aipom?\n",
    "num_hits('Aipom', 'Donphan')"
   ]
  },
  {
   "cell_type": "code",
   "execution_count": 16,
   "metadata": {},
   "outputs": [
    {
     "data": {
      "text/plain": [
       "3"
      ]
     },
     "execution_count": 16,
     "metadata": {},
     "output_type": "execute_result"
    }
   ],
   "source": [
    "#Q12: How many hits can Aipom take from Donphan?\n",
    "num_hits('Donphan', 'Aipom')"
   ]
  },
  {
   "cell_type": "code",
   "execution_count": 17,
   "metadata": {},
   "outputs": [],
   "source": [
    "#Return the name of the pkmn that can take more hits from the other\n",
    "# pkmn. If both pkmn faint within the same number of moves, return the\n",
    "# string 'Draw'\n",
    "def battle(pkmn1, pkmn2):\n",
    "    p1_hits = num_hits(pkmn2, pkmn1)\n",
    "    p2_hits = num_hits(pkmn1, pkmn2)\n",
    "    if abs(p1_hits - p2_hits) > 10:\n",
    "        if p1_hits > p2_hits:\n",
    "            return pkmn2 + \" ran away\"\n",
    "        else:\n",
    "            return pkmn1 + \" ran away\"\n",
    "    elif p1_hits > p2_hits:\n",
    "        return pkmn1\n",
    "    elif p1_hits < p2_hits:\n",
    "        return pkmn2\n",
    "    elif p1_hits == p2_hits:\n",
    "        if project.get_speed(pkmn1) > project.get_speed(pkmn2):\n",
    "            return pkmn1\n",
    "        elif project.get_speed(pkmn1) < project.get_speed(pkmn2):\n",
    "            return pkmn2\n",
    "        elif project.get_speed(pkmn1) == project.get_speed(pkmn2):\n",
    "            return 'Draw'"
   ]
  },
  {
   "cell_type": "code",
   "execution_count": 18,
   "metadata": {},
   "outputs": [
    {
     "data": {
      "text/plain": [
       "'Scraggy'"
      ]
     },
     "execution_count": 18,
     "metadata": {},
     "output_type": "execute_result"
    }
   ],
   "source": [
    "#Q13: What is the output of battle('Scraggy', 'Krabby')?\n",
    "battle('Scraggy', 'Krabby')"
   ]
  },
  {
   "cell_type": "code",
   "execution_count": 19,
   "metadata": {},
   "outputs": [
    {
     "data": {
      "text/plain": [
       "'Charizard'"
      ]
     },
     "execution_count": 19,
     "metadata": {},
     "output_type": "execute_result"
    }
   ],
   "source": [
    "#Q14: What is the output of battle('Charizard', 'Krabby')?\n",
    "battle('Charizard', 'Krabby')"
   ]
  },
  {
   "cell_type": "code",
   "execution_count": 20,
   "metadata": {},
   "outputs": [
    {
     "data": {
      "text/plain": [
       "'Draw'"
      ]
     },
     "execution_count": 20,
     "metadata": {},
     "output_type": "execute_result"
    }
   ],
   "source": [
    "#Q15: What is the output of battle('Treecko', 'Litten')?\n",
    "battle('Treecko', 'Litten')"
   ]
  },
  {
   "cell_type": "code",
   "execution_count": 21,
   "metadata": {},
   "outputs": [
    {
     "data": {
      "text/plain": [
       "'Buizel'"
      ]
     },
     "execution_count": 21,
     "metadata": {},
     "output_type": "execute_result"
    }
   ],
   "source": [
    "#Q16: What is the output of battle('Treecko', 'Buizel')?\n",
    "battle('Treecko', 'Buizel')"
   ]
  },
  {
   "cell_type": "code",
   "execution_count": 22,
   "metadata": {},
   "outputs": [
    {
     "data": {
      "text/plain": [
       "'Metapod ran away'"
      ]
     },
     "execution_count": 22,
     "metadata": {},
     "output_type": "execute_result"
    }
   ],
   "source": [
    "#Q17: What is the output of battle('Metapod', 'Talonflame')?\n",
    "battle('Metapod', 'Talonflame')"
   ]
  },
  {
   "cell_type": "code",
   "execution_count": 23,
   "metadata": {},
   "outputs": [
    {
     "data": {
      "text/plain": [
       "'Noibat ran away'"
      ]
     },
     "execution_count": 23,
     "metadata": {},
     "output_type": "execute_result"
    }
   ],
   "source": [
    "#Q18: What is the output of battle('Leavanny', 'Noibat')?\n",
    "battle('Leavanny', 'Noibat')"
   ]
  },
  {
   "cell_type": "code",
   "execution_count": 24,
   "metadata": {},
   "outputs": [],
   "source": [
    "def final_battle(pkmn1, pkmn2):\n",
    "    p1t1 = project.get_type1(pkmn1)\n",
    "    p1t2 = project.get_type2(pkmn1)\n",
    "    p2t1 = project.get_type1(pkmn2)\n",
    "    p2t2 = project.get_type2(pkmn2)\n",
    "    if project.get_region(pkmn1) != project.get_region(pkmn2):\n",
    "        if project.get_type1(pkmn1) == \"Flying\" :\n",
    "            return battle(pkmn1, pkmn2)\n",
    "        elif project.get_type2(pkmn1) == \"Flying\" :\n",
    "            return battle(pkmn1, pkmn2)\n",
    "        elif project.get_type1(pkmn2) == \"Flying\" :\n",
    "            return battle(pkmn1, pkmn2)\n",
    "        elif project.get_type2(pkmn2) == \"Flying\" :\n",
    "            return battle(pkmn1, pkmn2)\n",
    "        else:\n",
    "            return \"Cannot battle\"\n",
    "    else:\n",
    "        return battle(pkmn1, pkmn2)"
   ]
  },
  {
   "cell_type": "code",
   "execution_count": 25,
   "metadata": {},
   "outputs": [
    {
     "data": {
      "text/plain": [
       "'Cannot battle'"
      ]
     },
     "execution_count": 25,
     "metadata": {},
     "output_type": "execute_result"
    }
   ],
   "source": [
    "#Q19: What is the output of final_battle('Grotle', 'Roggenrola')?\n",
    "final_battle('Grotle', 'Roggenrola')"
   ]
  },
  {
   "cell_type": "code",
   "execution_count": 26,
   "metadata": {},
   "outputs": [
    {
     "data": {
      "text/plain": [
       "'Goodra'"
      ]
     },
     "execution_count": 26,
     "metadata": {},
     "output_type": "execute_result"
    }
   ],
   "source": [
    "#Q20: What is the output of final_battle('Starly', 'Goodra')?\n",
    "final_battle('Starly', 'Goodra')"
   ]
  },
  {
   "cell_type": "code",
   "execution_count": null,
   "metadata": {},
   "outputs": [],
   "source": []
  }
 ],
 "metadata": {
  "kernelspec": {
   "display_name": "Python 3",
   "language": "python",
   "name": "python3"
  },
  "language_info": {
   "codemirror_mode": {
    "name": "ipython",
    "version": 3
   },
   "file_extension": ".py",
   "mimetype": "text/x-python",
   "name": "python",
   "nbconvert_exporter": "python",
   "pygments_lexer": "ipython3",
   "version": "3.8.5"
  }
 },
 "nbformat": 4,
 "nbformat_minor": 4
}
